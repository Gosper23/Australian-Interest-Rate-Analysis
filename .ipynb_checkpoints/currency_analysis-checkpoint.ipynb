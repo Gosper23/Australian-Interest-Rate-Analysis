{
 "cells": [
  {
   "cell_type": "code",
   "execution_count": 1,
   "id": "e682a4e4-52a0-418c-b7f4-33c7af60198d",
   "metadata": {},
   "outputs": [],
   "source": [
    "# Initial imports\n",
    "import pandas as pd\n",
    "from pathlib import Path\n",
    "import datetime as dt"
   ]
  },
  {
   "cell_type": "code",
   "execution_count": 2,
   "id": "01f1dea9-5876-4b5f-b8ee-f98c775b270e",
   "metadata": {},
   "outputs": [
    {
     "data": {
      "text/html": [
       "<div>\n",
       "<style scoped>\n",
       "    .dataframe tbody tr th:only-of-type {\n",
       "        vertical-align: middle;\n",
       "    }\n",
       "\n",
       "    .dataframe tbody tr th {\n",
       "        vertical-align: top;\n",
       "    }\n",
       "\n",
       "    .dataframe thead th {\n",
       "        text-align: right;\n",
       "    }\n",
       "</style>\n",
       "<table border=\"1\" class=\"dataframe\">\n",
       "  <thead>\n",
       "    <tr style=\"text-align: right;\">\n",
       "      <th></th>\n",
       "      <th>Exchange Date</th>\n",
       "      <th>USD</th>\n",
       "      <th>EUR</th>\n",
       "      <th>GBP</th>\n",
       "      <th>JPY</th>\n",
       "    </tr>\n",
       "  </thead>\n",
       "  <tbody>\n",
       "    <tr>\n",
       "      <th>5212</th>\n",
       "      <td>17-May-2002</td>\n",
       "      <td>0.5525</td>\n",
       "      <td>0.6014</td>\n",
       "      <td>0.3765</td>\n",
       "      <td>70.23</td>\n",
       "    </tr>\n",
       "    <tr>\n",
       "      <th>5213</th>\n",
       "      <td>16-May-2002</td>\n",
       "      <td>0.5484</td>\n",
       "      <td>0.6012</td>\n",
       "      <td>0.3756</td>\n",
       "      <td>70.19</td>\n",
       "    </tr>\n",
       "    <tr>\n",
       "      <th>5214</th>\n",
       "      <td>15-May-2002</td>\n",
       "      <td>0.5488</td>\n",
       "      <td>0.6068</td>\n",
       "      <td>0.3777</td>\n",
       "      <td>70.34</td>\n",
       "    </tr>\n",
       "    <tr>\n",
       "      <th>5215</th>\n",
       "      <td>14-May-2002</td>\n",
       "      <td>0.5477</td>\n",
       "      <td>0.6001</td>\n",
       "      <td>0.3754</td>\n",
       "      <td>69.83</td>\n",
       "    </tr>\n",
       "    <tr>\n",
       "      <th>5216</th>\n",
       "      <td>13-May-2002</td>\n",
       "      <td>0.5471</td>\n",
       "      <td>0.5953</td>\n",
       "      <td>0.3717</td>\n",
       "      <td>69.61</td>\n",
       "    </tr>\n",
       "  </tbody>\n",
       "</table>\n",
       "</div>"
      ],
      "text/plain": [
       "     Exchange Date     USD     EUR     GBP    JPY\n",
       "5212   17-May-2002  0.5525  0.6014  0.3765  70.23\n",
       "5213   16-May-2002  0.5484  0.6012  0.3756  70.19\n",
       "5214   15-May-2002  0.5488  0.6068  0.3777  70.34\n",
       "5215   14-May-2002  0.5477  0.6001  0.3754  69.83\n",
       "5216   13-May-2002  0.5471  0.5953  0.3717  69.61"
      ]
     },
     "execution_count": 2,
     "metadata": {},
     "output_type": "execute_result"
    }
   ],
   "source": [
    "csv_path = Path(\"currency_data.csv\")\n",
    "currency_data = pd.read_csv(csv_path, header=0)\n",
    "currency_data.tail()"
   ]
  },
  {
   "cell_type": "code",
   "execution_count": 5,
   "id": "d1ad5f0b-52e0-4a03-878a-7fa4b7164955",
   "metadata": {},
   "outputs": [
    {
     "data": {
      "text/plain": [
       "Exchange Date     object\n",
       "USD              float64\n",
       "EUR              float64\n",
       "GBP              float64\n",
       "JPY              float64\n",
       "dtype: object"
      ]
     },
     "execution_count": 5,
     "metadata": {},
     "output_type": "execute_result"
    }
   ],
   "source": [
    "# check datatypes using dtypes\n",
    "currency_data.dtypes"
   ]
  },
  {
   "cell_type": "code",
   "execution_count": null,
   "id": "307f8209-9cc0-4b85-9858-3036ff7f7108",
   "metadata": {},
   "outputs": [],
   "source": []
  }
 ],
 "metadata": {
  "kernelspec": {
   "display_name": "Python 3 (ipykernel)",
   "language": "python",
   "name": "python3"
  },
  "language_info": {
   "codemirror_mode": {
    "name": "ipython",
    "version": 3
   },
   "file_extension": ".py",
   "mimetype": "text/x-python",
   "name": "python",
   "nbconvert_exporter": "python",
   "pygments_lexer": "ipython3",
   "version": "3.9.7"
  }
 },
 "nbformat": 4,
 "nbformat_minor": 5
}
