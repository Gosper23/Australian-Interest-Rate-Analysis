{
 "cells": [
  {
   "cell_type": "code",
   "execution_count": 11,
   "id": "4fcf804b",
   "metadata": {},
   "outputs": [],
   "source": [
    "# imports\n",
    "import panel as pn\n",
    "pn.extension('plotly')\n",
    "import plotly.express as px\n",
    "import pandas as pd\n",
    "import hvplot.pandas\n",
    "import matplotlib.pyplot as plt\n",
    "import os\n",
    "from pathlib import Path\n",
    "from dotenv import load_dotenv\n",
    "from datetime import datetime"
   ]
  },
  {
   "cell_type": "code",
   "execution_count": 12,
   "id": "8c57eca5",
   "metadata": {},
   "outputs": [
    {
     "data": {
      "text/html": [
       "<div>\n",
       "<style scoped>\n",
       "    .dataframe tbody tr th:only-of-type {\n",
       "        vertical-align: middle;\n",
       "    }\n",
       "\n",
       "    .dataframe tbody tr th {\n",
       "        vertical-align: top;\n",
       "    }\n",
       "\n",
       "    .dataframe thead th {\n",
       "        text-align: right;\n",
       "    }\n",
       "</style>\n",
       "<table border=\"1\" class=\"dataframe\">\n",
       "  <thead>\n",
       "    <tr style=\"text-align: right;\">\n",
       "      <th></th>\n",
       "      <th>Unnamed: 0</th>\n",
       "      <th>Bid</th>\n",
       "    </tr>\n",
       "    <tr>\n",
       "      <th>Exchange Date</th>\n",
       "      <th></th>\n",
       "      <th></th>\n",
       "    </tr>\n",
       "  </thead>\n",
       "  <tbody>\n",
       "    <tr>\n",
       "      <th>10-May-2022</th>\n",
       "      <td>0</td>\n",
       "      <td>45,648.2457</td>\n",
       "    </tr>\n",
       "    <tr>\n",
       "      <th>09-May-2022</th>\n",
       "      <td>1</td>\n",
       "      <td>44,472.0857</td>\n",
       "    </tr>\n",
       "    <tr>\n",
       "      <th>06-May-2022</th>\n",
       "      <td>2</td>\n",
       "      <td>50,945.0911</td>\n",
       "    </tr>\n",
       "    <tr>\n",
       "      <th>05-May-2022</th>\n",
       "      <td>3</td>\n",
       "      <td>51,231.8009</td>\n",
       "    </tr>\n",
       "    <tr>\n",
       "      <th>04-May-2022</th>\n",
       "      <td>4</td>\n",
       "      <td>54,780.5892</td>\n",
       "    </tr>\n",
       "  </tbody>\n",
       "</table>\n",
       "</div>"
      ],
      "text/plain": [
       "               Unnamed: 0          Bid\n",
       "Exchange Date                         \n",
       "10-May-2022             0  45,648.2457\n",
       "09-May-2022             1  44,472.0857\n",
       "06-May-2022             2  50,945.0911\n",
       "05-May-2022             3  51,231.8009\n",
       "04-May-2022             4  54,780.5892"
      ]
     },
     "execution_count": 12,
     "metadata": {},
     "output_type": "execute_result"
    }
   ],
   "source": [
    "# Set the file path\n",
    "csv_path5 = Path(\"others_data/BTC_data.csv\")\n",
    "\n",
    "#set df\n",
    "BTC_data_df = pd.read_csv(csv_path5, index_col=\"Exchange Date\")\n",
    "\n",
    "#test\n",
    "BTC_data_df.head()"
   ]
  },
  {
   "cell_type": "code",
   "execution_count": 13,
   "id": "d1f63219",
   "metadata": {},
   "outputs": [],
   "source": [
    "BTC_data_df = BTC_data_df.drop([\"Unnamed: 0\"], axis=1)\n"
   ]
  },
  {
   "cell_type": "code",
   "execution_count": 14,
   "id": "2674e25f",
   "metadata": {},
   "outputs": [
    {
     "data": {
      "text/html": [
       "<div>\n",
       "<style scoped>\n",
       "    .dataframe tbody tr th:only-of-type {\n",
       "        vertical-align: middle;\n",
       "    }\n",
       "\n",
       "    .dataframe tbody tr th {\n",
       "        vertical-align: top;\n",
       "    }\n",
       "\n",
       "    .dataframe thead th {\n",
       "        text-align: right;\n",
       "    }\n",
       "</style>\n",
       "<table border=\"1\" class=\"dataframe\">\n",
       "  <thead>\n",
       "    <tr style=\"text-align: right;\">\n",
       "      <th></th>\n",
       "      <th>Bid</th>\n",
       "    </tr>\n",
       "    <tr>\n",
       "      <th>Exchange Date</th>\n",
       "      <th></th>\n",
       "    </tr>\n",
       "  </thead>\n",
       "  <tbody>\n",
       "    <tr>\n",
       "      <th>10-May-2022</th>\n",
       "      <td>45,648.2457</td>\n",
       "    </tr>\n",
       "    <tr>\n",
       "      <th>09-May-2022</th>\n",
       "      <td>44,472.0857</td>\n",
       "    </tr>\n",
       "    <tr>\n",
       "      <th>06-May-2022</th>\n",
       "      <td>50,945.0911</td>\n",
       "    </tr>\n",
       "    <tr>\n",
       "      <th>05-May-2022</th>\n",
       "      <td>51,231.8009</td>\n",
       "    </tr>\n",
       "    <tr>\n",
       "      <th>04-May-2022</th>\n",
       "      <td>54,780.5892</td>\n",
       "    </tr>\n",
       "  </tbody>\n",
       "</table>\n",
       "</div>"
      ],
      "text/plain": [
       "                       Bid\n",
       "Exchange Date             \n",
       "10-May-2022    45,648.2457\n",
       "09-May-2022    44,472.0857\n",
       "06-May-2022    50,945.0911\n",
       "05-May-2022    51,231.8009\n",
       "04-May-2022    54,780.5892"
      ]
     },
     "execution_count": 14,
     "metadata": {},
     "output_type": "execute_result"
    }
   ],
   "source": [
    "BTC_data_df.head()"
   ]
  },
  {
   "cell_type": "code",
   "execution_count": 18,
   "id": "5ec05190",
   "metadata": {},
   "outputs": [
    {
     "ename": "ValueError",
     "evalue": "time data 'Exchange Date' does not match format '%d/%m/%Y'",
     "output_type": "error",
     "traceback": [
      "\u001b[1;31m---------------------------------------------------------------------------\u001b[0m",
      "\u001b[1;31mValueError\u001b[0m                                Traceback (most recent call last)",
      "\u001b[1;32m~\\AppData\\Local\\Temp\\ipykernel_3304\\1754512236.py\u001b[0m in \u001b[0;36m<module>\u001b[1;34m\u001b[0m\n\u001b[1;32m----> 1\u001b[1;33m \u001b[0mBTC_data_df\u001b[0m \u001b[1;33m=\u001b[0m \u001b[0mdatetime\u001b[0m\u001b[1;33m.\u001b[0m\u001b[0mstrptime\u001b[0m\u001b[1;33m(\u001b[0m\u001b[1;34m\"Exchange Date\"\u001b[0m\u001b[1;33m,\u001b[0m \u001b[1;34m\"%d/%m/%Y\"\u001b[0m\u001b[1;33m)\u001b[0m\u001b[1;33m.\u001b[0m\u001b[0mstrftime\u001b[0m\u001b[1;33m(\u001b[0m\u001b[1;34m'%Y-%m-%d'\u001b[0m\u001b[1;33m)\u001b[0m\u001b[1;33m\u001b[0m\u001b[1;33m\u001b[0m\u001b[0m\n\u001b[0m\u001b[0;32m      2\u001b[0m \u001b[0mBTC_data_df\u001b[0m\u001b[1;33m.\u001b[0m\u001b[0mhead\u001b[0m\u001b[1;33m(\u001b[0m\u001b[1;33m)\u001b[0m\u001b[1;33m\u001b[0m\u001b[1;33m\u001b[0m\u001b[0m\n",
      "\u001b[1;32m~\\anaconda3\\envs\\pyvizenv\\lib\\_strptime.py\u001b[0m in \u001b[0;36m_strptime_datetime\u001b[1;34m(cls, data_string, format)\u001b[0m\n\u001b[0;32m    575\u001b[0m     \"\"\"Return a class cls instance based on the input string and the\n\u001b[0;32m    576\u001b[0m     format string.\"\"\"\n\u001b[1;32m--> 577\u001b[1;33m     \u001b[0mtt\u001b[0m\u001b[1;33m,\u001b[0m \u001b[0mfraction\u001b[0m\u001b[1;33m,\u001b[0m \u001b[0mgmtoff_fraction\u001b[0m \u001b[1;33m=\u001b[0m \u001b[0m_strptime\u001b[0m\u001b[1;33m(\u001b[0m\u001b[0mdata_string\u001b[0m\u001b[1;33m,\u001b[0m \u001b[0mformat\u001b[0m\u001b[1;33m)\u001b[0m\u001b[1;33m\u001b[0m\u001b[1;33m\u001b[0m\u001b[0m\n\u001b[0m\u001b[0;32m    578\u001b[0m     \u001b[0mtzname\u001b[0m\u001b[1;33m,\u001b[0m \u001b[0mgmtoff\u001b[0m \u001b[1;33m=\u001b[0m \u001b[0mtt\u001b[0m\u001b[1;33m[\u001b[0m\u001b[1;33m-\u001b[0m\u001b[1;36m2\u001b[0m\u001b[1;33m:\u001b[0m\u001b[1;33m]\u001b[0m\u001b[1;33m\u001b[0m\u001b[1;33m\u001b[0m\u001b[0m\n\u001b[0;32m    579\u001b[0m     \u001b[0margs\u001b[0m \u001b[1;33m=\u001b[0m \u001b[0mtt\u001b[0m\u001b[1;33m[\u001b[0m\u001b[1;33m:\u001b[0m\u001b[1;36m6\u001b[0m\u001b[1;33m]\u001b[0m \u001b[1;33m+\u001b[0m \u001b[1;33m(\u001b[0m\u001b[0mfraction\u001b[0m\u001b[1;33m,\u001b[0m\u001b[1;33m)\u001b[0m\u001b[1;33m\u001b[0m\u001b[1;33m\u001b[0m\u001b[0m\n",
      "\u001b[1;32m~\\anaconda3\\envs\\pyvizenv\\lib\\_strptime.py\u001b[0m in \u001b[0;36m_strptime\u001b[1;34m(data_string, format)\u001b[0m\n\u001b[0;32m    357\u001b[0m     \u001b[1;32mif\u001b[0m \u001b[1;32mnot\u001b[0m \u001b[0mfound\u001b[0m\u001b[1;33m:\u001b[0m\u001b[1;33m\u001b[0m\u001b[1;33m\u001b[0m\u001b[0m\n\u001b[0;32m    358\u001b[0m         raise ValueError(\"time data %r does not match format %r\" %\n\u001b[1;32m--> 359\u001b[1;33m                          (data_string, format))\n\u001b[0m\u001b[0;32m    360\u001b[0m     \u001b[1;32mif\u001b[0m \u001b[0mlen\u001b[0m\u001b[1;33m(\u001b[0m\u001b[0mdata_string\u001b[0m\u001b[1;33m)\u001b[0m \u001b[1;33m!=\u001b[0m \u001b[0mfound\u001b[0m\u001b[1;33m.\u001b[0m\u001b[0mend\u001b[0m\u001b[1;33m(\u001b[0m\u001b[1;33m)\u001b[0m\u001b[1;33m:\u001b[0m\u001b[1;33m\u001b[0m\u001b[1;33m\u001b[0m\u001b[0m\n\u001b[0;32m    361\u001b[0m         raise ValueError(\"unconverted data remains: %s\" %\n",
      "\u001b[1;31mValueError\u001b[0m: time data 'Exchange Date' does not match format '%d/%m/%Y'"
     ]
    }
   ],
   "source": [
    "BTC_data_df = datetime.strptime(\"Exchange Date\", \"%d/%m/%Y\").strftime('%Y-%m-%d')\n",
    "BTC_data_df.head()"
   ]
  },
  {
   "cell_type": "code",
   "execution_count": null,
   "id": "41d3cb1d",
   "metadata": {},
   "outputs": [],
   "source": [
    "BTC_data_df = BTC_data_df.reset_index()\n",
    "BTC_data_df.head()"
   ]
  },
  {
   "cell_type": "code",
   "execution_count": null,
   "id": "d84214c2",
   "metadata": {},
   "outputs": [],
   "source": [
    "lastconnection = BTC_data_df.strptime(\"%d/%b/%Y\").strftime('%Y-%m-%d')"
   ]
  },
  {
   "cell_type": "code",
   "execution_count": null,
   "id": "3b528e47",
   "metadata": {},
   "outputs": [],
   "source": [
    "df_split = BTC_data_df[\"Exchange Date\"].str.split('-', expand=True)\n",
    "#\n",
    "df_split['leftpad'] = df_split[1].str.pad(side='left', fillchar='0', width = 2)\n",
    "#\n",
    "df_split[\"YYYYMM\"] = df_split[0] + df_split['leftpad']\n",
    "#\n",
    "df_split\n",
    "#joined_ASX_sector_data_rows and YYYYMM\n",
    "BTC_data_df_yyyymm = df_split[\"YYYYMM\"]\n",
    "BTC_data_df_yyyymm.head()"
   ]
  },
  {
   "cell_type": "code",
   "execution_count": null,
   "id": "8125ac0b",
   "metadata": {},
   "outputs": [],
   "source": [
    "rba_yyyymm = pd.concat([rba_sorted_clean_df, rba_sorted_clean_yyyymm], axis=1, join='inner')\n",
    "rba_yyyymm.head()"
   ]
  },
  {
   "cell_type": "code",
   "execution_count": null,
   "id": "868e89d6",
   "metadata": {},
   "outputs": [],
   "source": [
    "#Change data type to numeric\n",
    "rba_yyyymm['YYYYMM'] = pd.to_numeric(rba_yyyymm['YYYYMM'], errors='coerce')\n",
    "rba_yyyymm.head()"
   ]
  },
  {
   "cell_type": "code",
   "execution_count": null,
   "id": "7d88206e",
   "metadata": {},
   "outputs": [],
   "source": [
    "rba_yyyymm.set_index(\"Effective date\").head()"
   ]
  },
  {
   "cell_type": "code",
   "execution_count": null,
   "id": "c3da8e33",
   "metadata": {},
   "outputs": [],
   "source": [
    "rba_yyyymm.dtypes\n"
   ]
  },
  {
   "cell_type": "code",
   "execution_count": null,
   "id": "a5338d39",
   "metadata": {},
   "outputs": [],
   "source": [
    "rba_yyyymm_months= rba_yyyymm.groupby('YYYYMM').mean()\n",
    "rba_yyyymm_months.head()"
   ]
  },
  {
   "cell_type": "code",
   "execution_count": null,
   "id": "e392b1b1",
   "metadata": {},
   "outputs": [],
   "source": [
    "daily_returns_rba = rba_yyyymm_months.pct_change()\n",
    "daily_returns_rba.head()"
   ]
  }
 ],
 "metadata": {
  "kernelspec": {
   "display_name": "Python [conda env:pyvizenv] *",
   "language": "python",
   "name": "conda-env-pyvizenv-py"
  },
  "language_info": {
   "codemirror_mode": {
    "name": "ipython",
    "version": 3
   },
   "file_extension": ".py",
   "mimetype": "text/x-python",
   "name": "python",
   "nbconvert_exporter": "python",
   "pygments_lexer": "ipython3",
   "version": "3.7.11"
  }
 },
 "nbformat": 4,
 "nbformat_minor": 5
}
