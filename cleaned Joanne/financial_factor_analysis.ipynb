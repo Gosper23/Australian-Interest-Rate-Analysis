{
 "cells": [
  {
   "cell_type": "code",
   "execution_count": 21,
   "id": "66fbafc7-9b83-4eb1-8f05-6a4584eef91a",
   "metadata": {},
   "outputs": [],
   "source": [
    "# importing Libary to Python Notebook\n",
    "import pandas as pd\n",
    "import datetime as dt\n",
    "from pathlib import Path\n",
    "import panel as pn\n",
    "pn.extension('plotly')\n",
    "import plotly.express as px\n",
    "import hvplot.pandas\n",
    "from bokeh.sampledata.iris import flowers\n",
    "%matplotlib inline"
   ]
  },
  {
   "cell_type": "code",
   "execution_count": 22,
   "id": "365523b2-1c97-40a5-a0ee-ef0dffaa73de",
   "metadata": {},
   "outputs": [
    {
     "data": {
      "text/html": [
       "<div>\n",
       "<style scoped>\n",
       "    .dataframe tbody tr th:only-of-type {\n",
       "        vertical-align: middle;\n",
       "    }\n",
       "\n",
       "    .dataframe tbody tr th {\n",
       "        vertical-align: top;\n",
       "    }\n",
       "\n",
       "    .dataframe thead th {\n",
       "        text-align: right;\n",
       "    }\n",
       "</style>\n",
       "<table border=\"1\" class=\"dataframe\">\n",
       "  <thead>\n",
       "    <tr style=\"text-align: right;\">\n",
       "      <th></th>\n",
       "      <th>rba</th>\n",
       "    </tr>\n",
       "    <tr>\n",
       "      <th>Date</th>\n",
       "      <th></th>\n",
       "    </tr>\n",
       "  </thead>\n",
       "  <tbody>\n",
       "    <tr>\n",
       "      <th>2006-03</th>\n",
       "      <td>5.50</td>\n",
       "    </tr>\n",
       "    <tr>\n",
       "      <th>2006-06</th>\n",
       "      <td>5.75</td>\n",
       "    </tr>\n",
       "    <tr>\n",
       "      <th>2006-09</th>\n",
       "      <td>6.00</td>\n",
       "    </tr>\n",
       "    <tr>\n",
       "      <th>2006-12</th>\n",
       "      <td>6.25</td>\n",
       "    </tr>\n",
       "    <tr>\n",
       "      <th>2007-03</th>\n",
       "      <td>6.25</td>\n",
       "    </tr>\n",
       "  </tbody>\n",
       "</table>\n",
       "</div>"
      ],
      "text/plain": [
       "          rba\n",
       "Date         \n",
       "2006-03  5.50\n",
       "2006-06  5.75\n",
       "2006-09  6.00\n",
       "2006-12  6.25\n",
       "2007-03  6.25"
      ]
     },
     "execution_count": 22,
     "metadata": {},
     "output_type": "execute_result"
    }
   ],
   "source": [
    "# Defining Path for rba csv quarter and importing CSV, reading data frame using pandas\n",
    "rba_csv = Path(\"rba_sorted_clean.csv\")\n",
    "rba_sorted_clean = pd.read_csv(rba_csv, index_col=\"Date\")\n",
    "# rba_sorted_clean print data frame\n",
    "rba_sorted_clean.head()"
   ]
  },
  {
   "cell_type": "code",
   "execution_count": 23,
   "id": "fb02a43d-ad2c-41ad-b033-79d4d613010b",
   "metadata": {},
   "outputs": [
    {
     "data": {
      "text/html": [
       "<div>\n",
       "<style scoped>\n",
       "    .dataframe tbody tr th:only-of-type {\n",
       "        vertical-align: middle;\n",
       "    }\n",
       "\n",
       "    .dataframe tbody tr th {\n",
       "        vertical-align: top;\n",
       "    }\n",
       "\n",
       "    .dataframe thead th {\n",
       "        text-align: right;\n",
       "    }\n",
       "</style>\n",
       "<table border=\"1\" class=\"dataframe\">\n",
       "  <thead>\n",
       "    <tr style=\"text-align: right;\">\n",
       "      <th></th>\n",
       "      <th>gdp_per_capita</th>\n",
       "    </tr>\n",
       "    <tr>\n",
       "      <th>Date</th>\n",
       "      <th></th>\n",
       "    </tr>\n",
       "  </thead>\n",
       "  <tbody>\n",
       "    <tr>\n",
       "      <th>2006-03</th>\n",
       "      <td>12353</td>\n",
       "    </tr>\n",
       "    <tr>\n",
       "      <th>2006-06</th>\n",
       "      <td>12520</td>\n",
       "    </tr>\n",
       "    <tr>\n",
       "      <th>2006-09</th>\n",
       "      <td>12764</td>\n",
       "    </tr>\n",
       "    <tr>\n",
       "      <th>2006-12</th>\n",
       "      <td>13050</td>\n",
       "    </tr>\n",
       "    <tr>\n",
       "      <th>2007-03</th>\n",
       "      <td>13293</td>\n",
       "    </tr>\n",
       "  </tbody>\n",
       "</table>\n",
       "</div>"
      ],
      "text/plain": [
       "         gdp_per_capita\n",
       "Date                   \n",
       "2006-03           12353\n",
       "2006-06           12520\n",
       "2006-09           12764\n",
       "2006-12           13050\n",
       "2007-03           13293"
      ]
     },
     "execution_count": 23,
     "metadata": {},
     "output_type": "execute_result"
    }
   ],
   "source": [
    "# Defining Path for gdp_csv and importing CSV, reading data frame using pandas library\n",
    "gdp_csv = Path(\"gdp_sorted_clean.csv\")\n",
    "gdp_sorted_clean = pd.read_csv(gdp_csv, index_col=\"Date\")\n",
    "# gdp_per_capita print data frame\n",
    "gdp_sorted_clean.head()"
   ]
  },
  {
   "cell_type": "code",
   "execution_count": 24,
   "id": "b71869ca-cad0-440e-af45-e7332c0c7b41",
   "metadata": {},
   "outputs": [
    {
     "data": {
      "text/html": [
       "<div>\n",
       "<style scoped>\n",
       "    .dataframe tbody tr th:only-of-type {\n",
       "        vertical-align: middle;\n",
       "    }\n",
       "\n",
       "    .dataframe tbody tr th {\n",
       "        vertical-align: top;\n",
       "    }\n",
       "\n",
       "    .dataframe thead th {\n",
       "        text-align: right;\n",
       "    }\n",
       "</style>\n",
       "<table border=\"1\" class=\"dataframe\">\n",
       "  <thead>\n",
       "    <tr style=\"text-align: right;\">\n",
       "      <th></th>\n",
       "      <th>unemployment_rate</th>\n",
       "    </tr>\n",
       "    <tr>\n",
       "      <th>Date</th>\n",
       "      <th></th>\n",
       "    </tr>\n",
       "  </thead>\n",
       "  <tbody>\n",
       "    <tr>\n",
       "      <th>2006-03</th>\n",
       "      <td>4.9%</td>\n",
       "    </tr>\n",
       "    <tr>\n",
       "      <th>2006-06</th>\n",
       "      <td>4.8%</td>\n",
       "    </tr>\n",
       "    <tr>\n",
       "      <th>2006-09</th>\n",
       "      <td>4.7%</td>\n",
       "    </tr>\n",
       "    <tr>\n",
       "      <th>2006-12</th>\n",
       "      <td>4.6%</td>\n",
       "    </tr>\n",
       "    <tr>\n",
       "      <th>2007-03</th>\n",
       "      <td>4.5%</td>\n",
       "    </tr>\n",
       "  </tbody>\n",
       "</table>\n",
       "</div>"
      ],
      "text/plain": [
       "        unemployment_rate\n",
       "Date                     \n",
       "2006-03              4.9%\n",
       "2006-06              4.8%\n",
       "2006-09              4.7%\n",
       "2006-12              4.6%\n",
       "2007-03              4.5%"
      ]
     },
     "execution_count": 24,
     "metadata": {},
     "output_type": "execute_result"
    }
   ],
   "source": [
    "# Defining Path for unemployment_rate_csv and importing CSV, reading data frame using pandas library\n",
    "unemployment_rate_csv = Path(\"unemployment_rate_sorted_clean.csv\")\n",
    "unemployment_rate_sorted_clean = pd.read_csv(unemployment_rate_csv, index_col=\"Date\")\n",
    "\n",
    "# unemplyoment_rate print data frame\n",
    "unemployment_rate_sorted_clean.head()"
   ]
  },
  {
   "cell_type": "code",
   "execution_count": 25,
   "id": "11434bdc-9bca-47b8-a059-cf155031bbf4",
   "metadata": {},
   "outputs": [
    {
     "data": {
      "text/html": [
       "<div>\n",
       "<style scoped>\n",
       "    .dataframe tbody tr th:only-of-type {\n",
       "        vertical-align: middle;\n",
       "    }\n",
       "\n",
       "    .dataframe tbody tr th {\n",
       "        vertical-align: top;\n",
       "    }\n",
       "\n",
       "    .dataframe thead th {\n",
       "        text-align: right;\n",
       "    }\n",
       "</style>\n",
       "<table border=\"1\" class=\"dataframe\">\n",
       "  <thead>\n",
       "    <tr style=\"text-align: right;\">\n",
       "      <th></th>\n",
       "      <th>inflation_rate</th>\n",
       "    </tr>\n",
       "    <tr>\n",
       "      <th>Date</th>\n",
       "      <th></th>\n",
       "    </tr>\n",
       "  </thead>\n",
       "  <tbody>\n",
       "    <tr>\n",
       "      <th>2006-03</th>\n",
       "      <td>84.5</td>\n",
       "    </tr>\n",
       "    <tr>\n",
       "      <th>2006-06</th>\n",
       "      <td>85.9</td>\n",
       "    </tr>\n",
       "    <tr>\n",
       "      <th>2006-09</th>\n",
       "      <td>86.7</td>\n",
       "    </tr>\n",
       "    <tr>\n",
       "      <th>2006-12</th>\n",
       "      <td>86.6</td>\n",
       "    </tr>\n",
       "    <tr>\n",
       "      <th>2007-03</th>\n",
       "      <td>86.6</td>\n",
       "    </tr>\n",
       "  </tbody>\n",
       "</table>\n",
       "</div>"
      ],
      "text/plain": [
       "         inflation_rate\n",
       "Date                   \n",
       "2006-03            84.5\n",
       "2006-06            85.9\n",
       "2006-09            86.7\n",
       "2006-12            86.6\n",
       "2007-03            86.6"
      ]
     },
     "execution_count": 25,
     "metadata": {},
     "output_type": "execute_result"
    }
   ],
   "source": [
    "# Defining Path for cpi_rate_csv and importing CSV, reading data frame using pandas library\n",
    "cpi_rate_csv = Path(\"cpi_rate_sorted_clean.csv\")\n",
    "cpi_rate_sorted_clean = pd.read_csv(cpi_rate_csv, index_col=\"Date\")\n",
    "# print cpi_rate data frame \n",
    "cpi_rate_sorted_clean.head()"
   ]
  },
  {
   "cell_type": "code",
   "execution_count": 26,
   "id": "087505f4-6a5b-487b-bae5-e84c3a528720",
   "metadata": {},
   "outputs": [
    {
     "data": {
      "text/html": [
       "<div>\n",
       "<style scoped>\n",
       "    .dataframe tbody tr th:only-of-type {\n",
       "        vertical-align: middle;\n",
       "    }\n",
       "\n",
       "    .dataframe tbody tr th {\n",
       "        vertical-align: top;\n",
       "    }\n",
       "\n",
       "    .dataframe thead th {\n",
       "        text-align: right;\n",
       "    }\n",
       "</style>\n",
       "<table border=\"1\" class=\"dataframe\">\n",
       "  <thead>\n",
       "    <tr style=\"text-align: right;\">\n",
       "      <th></th>\n",
       "      <th>gdp_per_capita</th>\n",
       "      <th>unemployment_rate</th>\n",
       "      <th>inflation_rate</th>\n",
       "      <th>rba</th>\n",
       "    </tr>\n",
       "    <tr>\n",
       "      <th>Date</th>\n",
       "      <th></th>\n",
       "      <th></th>\n",
       "      <th></th>\n",
       "      <th></th>\n",
       "    </tr>\n",
       "  </thead>\n",
       "  <tbody>\n",
       "    <tr>\n",
       "      <th>2006-03</th>\n",
       "      <td>12353</td>\n",
       "      <td>4.9</td>\n",
       "      <td>84.5</td>\n",
       "      <td>5.50</td>\n",
       "    </tr>\n",
       "    <tr>\n",
       "      <th>2006-06</th>\n",
       "      <td>12520</td>\n",
       "      <td>4.8</td>\n",
       "      <td>85.9</td>\n",
       "      <td>5.75</td>\n",
       "    </tr>\n",
       "    <tr>\n",
       "      <th>2006-09</th>\n",
       "      <td>12764</td>\n",
       "      <td>4.7</td>\n",
       "      <td>86.7</td>\n",
       "      <td>6.00</td>\n",
       "    </tr>\n",
       "    <tr>\n",
       "      <th>2006-12</th>\n",
       "      <td>13050</td>\n",
       "      <td>4.6</td>\n",
       "      <td>86.6</td>\n",
       "      <td>6.25</td>\n",
       "    </tr>\n",
       "    <tr>\n",
       "      <th>2007-03</th>\n",
       "      <td>13293</td>\n",
       "      <td>4.5</td>\n",
       "      <td>86.6</td>\n",
       "      <td>6.25</td>\n",
       "    </tr>\n",
       "  </tbody>\n",
       "</table>\n",
       "</div>"
      ],
      "text/plain": [
       "         gdp_per_capita  unemployment_rate  inflation_rate   rba\n",
       "Date                                                            \n",
       "2006-03           12353                4.9            84.5  5.50\n",
       "2006-06           12520                4.8            85.9  5.75\n",
       "2006-09           12764                4.7            86.7  6.00\n",
       "2006-12           13050                4.6            86.6  6.25\n",
       "2007-03           13293                4.5            86.6  6.25"
      ]
     },
     "execution_count": 26,
     "metadata": {},
     "output_type": "execute_result"
    }
   ],
   "source": [
    "# Concating data frame to make quarterly comparison analysis of gdp,cpi and unemplyoment rate against rba \n",
    "\n",
    "quarterly_comparison = pd.concat([gdp_sorted_clean, unemployment_rate_sorted_clean, cpi_rate_sorted_clean, rba_sorted_clean],axis=\"columns\", join=\"inner\")\n",
    "# drop % value and convert list to \"float\" [\"unemployment_rate\"]\n",
    "quarterly_comparison[\"unemployment_rate\"] = quarterly_comparison[\"unemployment_rate\"].str.replace(\"%\", \"\", regex=True).astype(\"float\")\n",
    "# print quarterly_comparison data frame\n",
    "quarterly_comparison.head()"
   ]
  },
  {
   "cell_type": "code",
   "execution_count": 31,
   "id": "953fed80-be86-4131-9220-9045c352c15e",
   "metadata": {},
   "outputs": [
    {
     "data": {
      "text/plain": [
       "gdp_per_capita       0\n",
       "unemployment_rate    0\n",
       "inflation_rate       0\n",
       "rba                  0\n",
       "dtype: int64"
      ]
     },
     "execution_count": 31,
     "metadata": {},
     "output_type": "execute_result"
    }
   ],
   "source": [
    "# calculating percetance change using pandas function .pct_change, drop null value, check nul value\n",
    "concat_pct = quarterly_comparison.pct_change().dropna()\n",
    "concat_pct.isnull().sum()"
   ]
  },
  {
   "cell_type": "code",
   "execution_count": 32,
   "id": "23677ac5-5839-4ba5-bd15-dd76372a61b4",
   "metadata": {},
   "outputs": [
    {
     "data": {
      "text/html": [
       "<div>\n",
       "<style scoped>\n",
       "    .dataframe tbody tr th:only-of-type {\n",
       "        vertical-align: middle;\n",
       "    }\n",
       "\n",
       "    .dataframe tbody tr th {\n",
       "        vertical-align: top;\n",
       "    }\n",
       "\n",
       "    .dataframe thead th {\n",
       "        text-align: right;\n",
       "    }\n",
       "</style>\n",
       "<table border=\"1\" class=\"dataframe\">\n",
       "  <thead>\n",
       "    <tr style=\"text-align: right;\">\n",
       "      <th></th>\n",
       "      <th>Date</th>\n",
       "      <th>gdp_per_capita</th>\n",
       "      <th>unemployment_rate</th>\n",
       "      <th>inflation_rate</th>\n",
       "      <th>rba</th>\n",
       "    </tr>\n",
       "  </thead>\n",
       "  <tbody>\n",
       "    <tr>\n",
       "      <th>0</th>\n",
       "      <td>2006-06</td>\n",
       "      <td>0.013519</td>\n",
       "      <td>-0.020408</td>\n",
       "      <td>0.016568</td>\n",
       "      <td>0.045455</td>\n",
       "    </tr>\n",
       "    <tr>\n",
       "      <th>1</th>\n",
       "      <td>2006-09</td>\n",
       "      <td>0.019489</td>\n",
       "      <td>-0.020833</td>\n",
       "      <td>0.009313</td>\n",
       "      <td>0.043478</td>\n",
       "    </tr>\n",
       "    <tr>\n",
       "      <th>2</th>\n",
       "      <td>2006-12</td>\n",
       "      <td>0.022407</td>\n",
       "      <td>-0.021277</td>\n",
       "      <td>-0.001153</td>\n",
       "      <td>0.041667</td>\n",
       "    </tr>\n",
       "    <tr>\n",
       "      <th>3</th>\n",
       "      <td>2007-03</td>\n",
       "      <td>0.018621</td>\n",
       "      <td>-0.021739</td>\n",
       "      <td>0.000000</td>\n",
       "      <td>0.000000</td>\n",
       "    </tr>\n",
       "    <tr>\n",
       "      <th>4</th>\n",
       "      <td>2007-06</td>\n",
       "      <td>0.012939</td>\n",
       "      <td>-0.044444</td>\n",
       "      <td>0.012702</td>\n",
       "      <td>0.000000</td>\n",
       "    </tr>\n",
       "  </tbody>\n",
       "</table>\n",
       "</div>"
      ],
      "text/plain": [
       "      Date  gdp_per_capita  unemployment_rate  inflation_rate       rba\n",
       "0  2006-06        0.013519          -0.020408        0.016568  0.045455\n",
       "1  2006-09        0.019489          -0.020833        0.009313  0.043478\n",
       "2  2006-12        0.022407          -0.021277       -0.001153  0.041667\n",
       "3  2007-03        0.018621          -0.021739        0.000000  0.000000\n",
       "4  2007-06        0.012939          -0.044444        0.012702  0.000000"
      ]
     },
     "execution_count": 32,
     "metadata": {},
     "output_type": "execute_result"
    }
   ],
   "source": [
    "# reset data frame index and print to check data frame \n",
    "concat_pct.reset_index().head()"
   ]
  },
  {
   "cell_type": "code",
   "execution_count": 33,
   "id": "b3780426-6824-4e21-97e2-519f3e1d1c2d",
   "metadata": {},
   "outputs": [
    {
     "data": {
      "text/html": [
       "<div>\n",
       "<style scoped>\n",
       "    .dataframe tbody tr th:only-of-type {\n",
       "        vertical-align: middle;\n",
       "    }\n",
       "\n",
       "    .dataframe tbody tr th {\n",
       "        vertical-align: top;\n",
       "    }\n",
       "\n",
       "    .dataframe thead th {\n",
       "        text-align: right;\n",
       "    }\n",
       "</style>\n",
       "<table border=\"1\" class=\"dataframe\">\n",
       "  <thead>\n",
       "    <tr style=\"text-align: right;\">\n",
       "      <th></th>\n",
       "      <th>gdp_per_capita</th>\n",
       "      <th>unemployment_rate</th>\n",
       "      <th>inflation_rate</th>\n",
       "      <th>rba</th>\n",
       "    </tr>\n",
       "    <tr>\n",
       "      <th>Date</th>\n",
       "      <th></th>\n",
       "      <th></th>\n",
       "      <th></th>\n",
       "      <th></th>\n",
       "    </tr>\n",
       "  </thead>\n",
       "  <tbody>\n",
       "    <tr>\n",
       "      <th>2018-03</th>\n",
       "      <td>0.010527</td>\n",
       "      <td>0.000000</td>\n",
       "      <td>0.004460</td>\n",
       "      <td>0.0</td>\n",
       "    </tr>\n",
       "    <tr>\n",
       "      <th>2018-06</th>\n",
       "      <td>0.010955</td>\n",
       "      <td>-0.053571</td>\n",
       "      <td>0.003552</td>\n",
       "      <td>0.0</td>\n",
       "    </tr>\n",
       "    <tr>\n",
       "      <th>2018-09</th>\n",
       "      <td>0.009721</td>\n",
       "      <td>-0.056604</td>\n",
       "      <td>0.004425</td>\n",
       "      <td>0.0</td>\n",
       "    </tr>\n",
       "    <tr>\n",
       "      <th>2018-12</th>\n",
       "      <td>0.008417</td>\n",
       "      <td>0.000000</td>\n",
       "      <td>0.005286</td>\n",
       "      <td>0.0</td>\n",
       "    </tr>\n",
       "    <tr>\n",
       "      <th>2019-03</th>\n",
       "      <td>0.010694</td>\n",
       "      <td>0.020000</td>\n",
       "      <td>0.000000</td>\n",
       "      <td>0.0</td>\n",
       "    </tr>\n",
       "  </tbody>\n",
       "</table>\n",
       "</div>"
      ],
      "text/plain": [
       "         gdp_per_capita  unemployment_rate  inflation_rate  rba\n",
       "Date                                                           \n",
       "2018-03        0.010527           0.000000        0.004460  0.0\n",
       "2018-06        0.010955          -0.053571        0.003552  0.0\n",
       "2018-09        0.009721          -0.056604        0.004425  0.0\n",
       "2018-12        0.008417           0.000000        0.005286  0.0\n",
       "2019-03        0.010694           0.020000        0.000000  0.0"
      ]
     },
     "execution_count": 33,
     "metadata": {},
     "output_type": "execute_result"
    }
   ],
   "source": [
    "# print to check data frame \n",
    "concat_pct.tail()"
   ]
  },
  {
   "cell_type": "code",
   "execution_count": 29,
   "id": "fa8365e7-d147-43d4-b3b5-eacf8a5ff89f",
   "metadata": {},
   "outputs": [
    {
     "data": {},
     "metadata": {},
     "output_type": "display_data"
    },
    {
     "data": {
      "application/vnd.holoviews_exec.v0+json": "",
      "text/html": [
       "<div id='1624'>\n",
       "\n",
       "\n",
       "\n",
       "\n",
       "\n",
       "  <div class=\"bk-root\" id=\"8623bc1b-8859-48d6-b555-b04edcc4d343\" data-root-id=\"1624\"></div>\n",
       "</div>\n",
       "<script type=\"application/javascript\">(function(root) {\n",
       "  function embed_document(root) {\n",
       "    var docs_json = {\"3fcc302e-2c8c-4505-9f23-6a200bd13ad5\":{\"defs\":[{\"extends\":null,\"module\":null,\"name\":\"ReactiveHTML1\",\"overrides\":[],\"properties\":[]},{\"extends\":null,\"module\":null,\"name\":\"FlexBox1\",\"overrides\":[],\"properties\":[{\"default\":\"flex-start\",\"kind\":null,\"name\":\"align_content\"},{\"default\":\"flex-start\",\"kind\":null,\"name\":\"align_items\"},{\"default\":\"row\",\"kind\":null,\"name\":\"flex_direction\"},{\"default\":\"wrap\",\"kind\":null,\"name\":\"flex_wrap\"},{\"default\":\"flex-start\",\"kind\":null,\"name\":\"justify_content\"}]},{\"extends\":null,\"module\":null,\"name\":\"GridStack1\",\"overrides\":[],\"properties\":[{\"default\":\"warn\",\"kind\":null,\"name\":\"mode\"},{\"default\":null,\"kind\":null,\"name\":\"ncols\"},{\"default\":null,\"kind\":null,\"name\":\"nrows\"},{\"default\":true,\"kind\":null,\"name\":\"allow_resize\"},{\"default\":true,\"kind\":null,\"name\":\"allow_drag\"},{\"default\":[],\"kind\":null,\"name\":\"state\"}]},{\"extends\":null,\"module\":null,\"name\":\"click1\",\"overrides\":[],\"properties\":[{\"default\":\"\",\"kind\":null,\"name\":\"terminal_output\"},{\"default\":\"\",\"kind\":null,\"name\":\"debug_name\"},{\"default\":0,\"kind\":null,\"name\":\"clears\"}]},{\"extends\":null,\"module\":null,\"name\":\"TemplateActions1\",\"overrides\":[],\"properties\":[{\"default\":0,\"kind\":null,\"name\":\"open_modal\"},{\"default\":0,\"kind\":null,\"name\":\"close_modal\"}]},{\"extends\":null,\"module\":null,\"name\":\"MaterialTemplateActions1\",\"overrides\":[],\"properties\":[{\"default\":0,\"kind\":null,\"name\":\"open_modal\"},{\"default\":0,\"kind\":null,\"name\":\"close_modal\"}]}],\"roots\":{\"references\":[{\"attributes\":{\"axis\":{\"id\":\"1641\"},\"coordinates\":null,\"grid_line_color\":null,\"group\":null,\"ticker\":null},\"id\":\"1643\",\"type\":\"Grid\"},{\"attributes\":{},\"id\":\"1642\",\"type\":\"CategoricalTicker\"},{\"attributes\":{\"line_color\":\"#30a2da\",\"line_width\":2,\"x\":{\"field\":\"Date\"},\"y\":{\"field\":\"value\"}},\"id\":\"1670\",\"type\":\"Line\"},{\"attributes\":{},\"id\":\"1645\",\"type\":\"BasicTicker\"},{\"attributes\":{\"line_alpha\":0.2,\"line_color\":\"#30a2da\",\"line_width\":2,\"x\":{\"field\":\"Date\"},\"y\":{\"field\":\"value\"}},\"id\":\"1672\",\"type\":\"Line\"},{\"attributes\":{},\"id\":\"1662\",\"type\":\"CategoricalTickFormatter\"},{\"attributes\":{\"axis_label\":\"\",\"coordinates\":null,\"formatter\":{\"id\":\"1665\"},\"group\":null,\"major_label_policy\":{\"id\":\"1666\"},\"ticker\":{\"id\":\"1645\"}},\"id\":\"1644\",\"type\":\"LinearAxis\"},{\"attributes\":{\"source\":{\"id\":\"1667\"}},\"id\":\"1674\",\"type\":\"CDSView\"},{\"attributes\":{\"axis\":{\"id\":\"1644\"},\"coordinates\":null,\"dimension\":1,\"grid_line_color\":null,\"group\":null,\"ticker\":null},\"id\":\"1647\",\"type\":\"Grid\"},{\"attributes\":{\"line_color\":\"#30a2da\",\"line_width\":2,\"x\":{\"field\":\"Date\"},\"y\":{\"field\":\"value\"}},\"id\":\"1687\",\"type\":\"Line\"},{\"attributes\":{\"line_alpha\":0.1,\"line_color\":\"#fc4f30\",\"line_width\":2,\"x\":{\"field\":\"Date\"},\"y\":{\"field\":\"value\"}},\"id\":\"1692\",\"type\":\"Line\"},{\"attributes\":{\"coordinates\":null,\"data_source\":{\"id\":\"1734\"},\"glyph\":{\"id\":\"1737\"},\"group\":null,\"hover_glyph\":null,\"muted_glyph\":{\"id\":\"1739\"},\"nonselection_glyph\":{\"id\":\"1738\"},\"selection_glyph\":{\"id\":\"1759\"},\"view\":{\"id\":\"1741\"}},\"id\":\"1740\",\"type\":\"GlyphRenderer\"},{\"attributes\":{\"data\":{\"Date\":[\"2006-06\",\"2006-09\",\"2006-12\",\"2007-03\",\"2007-06\",\"2007-09\",\"2007-12\",\"2008-03\",\"2008-06\",\"2008-09\",\"2008-12\",\"2009-03\",\"2009-06\",\"2009-09\",\"2009-12\",\"2010-03\",\"2010-06\",\"2010-09\",\"2010-12\",\"2011-03\",\"2011-06\",\"2011-09\",\"2011-12\",\"2012-03\",\"2012-06\",\"2012-09\",\"2012-12\",\"2013-03\",\"2013-06\",\"2013-09\",\"2013-12\",\"2014-03\",\"2014-06\",\"2014-09\",\"2014-12\",\"2015-03\",\"2015-06\",\"2015-09\",\"2015-12\",\"2016-03\",\"2016-06\",\"2016-09\",\"2016-12\",\"2017-03\",\"2017-06\",\"2017-09\",\"2017-12\",\"2018-03\",\"2018-06\",\"2018-09\",\"2018-12\",\"2019-03\"],\"Variable\":[\"inflation_rate\",\"inflation_rate\",\"inflation_rate\",\"inflation_rate\",\"inflation_rate\",\"inflation_rate\",\"inflation_rate\",\"inflation_rate\",\"inflation_rate\",\"inflation_rate\",\"inflation_rate\",\"inflation_rate\",\"inflation_rate\",\"inflation_rate\",\"inflation_rate\",\"inflation_rate\",\"inflation_rate\",\"inflation_rate\",\"inflation_rate\",\"inflation_rate\",\"inflation_rate\",\"inflation_rate\",\"inflation_rate\",\"inflation_rate\",\"inflation_rate\",\"inflation_rate\",\"inflation_rate\",\"inflation_rate\",\"inflation_rate\",\"inflation_rate\",\"inflation_rate\",\"inflation_rate\",\"inflation_rate\",\"inflation_rate\",\"inflation_rate\",\"inflation_rate\",\"inflation_rate\",\"inflation_rate\",\"inflation_rate\",\"inflation_rate\",\"inflation_rate\",\"inflation_rate\",\"inflation_rate\",\"inflation_rate\",\"inflation_rate\",\"inflation_rate\",\"inflation_rate\",\"inflation_rate\",\"inflation_rate\",\"inflation_rate\",\"inflation_rate\",\"inflation_rate\"],\"value\":{\"__ndarray__\":\"wIXj1Tb3kD8AdGF7xhKDPwAyXou45VK/AAAAAAAAAAAAYL4ejAOKPwClsozWBXw/gDXdpw+Ogj8A/xgrHpWLP4AHaqbje40/AJ538QiYiD8A4TBR5oJqvwDsRkBKu1E/AOjN+GG2cT8AoHpjN9eDPwDMYp9s1XU/ACp6Is+Lgz8ArNAZrNB5PwC+5CzU7X0/AHP20236cD8AYYk42paNPwBXhQAywII/ABljjDHGeD8AAAAAAAAAAAAUeZy1alA/AEgBzSCAdD8Am7jxyY6MPwB6UTYkGGA/ABAQEBAQcD8AAAAAAABwPwDoF+gX6Ic/APiBH/iBfz8Asrc2THN3PwATqPpEbnM/AKlhpMhWcz8A7AGzB8xePwAMhf88vV4/AMJia7DYej8A0jABGQ1zPwDmAck6V24/ABrceZE6Xr8AMm9Z30huPwDvGRdRLH4/AGsetd92dj8AE+QpQZ5yPwCApx2Ap10/AIxM14/meT8AhXHN5bx5PwAc54z3RHI/AApfFesZbT8A+yGBtx9yPwDn4g4ip3U/AAAAAAAAAAA=\",\"dtype\":\"float64\",\"order\":\"little\",\"shape\":[52]}},\"selected\":{\"id\":\"1711\"},\"selection_policy\":{\"id\":\"1729\"}},\"id\":\"1710\",\"type\":\"ColumnDataSource\"},{\"attributes\":{\"click_policy\":\"mute\",\"coordinates\":null,\"group\":null,\"items\":[{\"id\":\"1686\"},{\"id\":\"1708\"},{\"id\":\"1732\"},{\"id\":\"1758\"}],\"location\":[0,0],\"title\":\"Variable\"},\"id\":\"1685\",\"type\":\"Legend\"},{\"attributes\":{},\"id\":\"1682\",\"type\":\"UnionRenderers\"},{\"attributes\":{\"tools\":[{\"id\":\"1628\"},{\"id\":\"1648\"},{\"id\":\"1649\"},{\"id\":\"1650\"},{\"id\":\"1651\"},{\"id\":\"1652\"}]},\"id\":\"1654\",\"type\":\"Toolbar\"},{\"attributes\":{\"line_color\":\"#6d904f\",\"line_width\":2,\"x\":{\"field\":\"Date\"},\"y\":{\"field\":\"value\"}},\"id\":\"1759\",\"type\":\"Line\"},{\"attributes\":{\"bottom_units\":\"screen\",\"coordinates\":null,\"fill_alpha\":0.5,\"fill_color\":\"lightgrey\",\"group\":null,\"left_units\":\"screen\",\"level\":\"overlay\",\"line_alpha\":1.0,\"line_color\":\"black\",\"line_dash\":[4,4],\"line_width\":2,\"right_units\":\"screen\",\"syncable\":false,\"top_units\":\"screen\"},\"id\":\"1653\",\"type\":\"BoxAnnotation\"},{\"attributes\":{\"line_alpha\":0.1,\"line_color\":\"#6d904f\",\"line_width\":2,\"x\":{\"field\":\"Date\"},\"y\":{\"field\":\"value\"}},\"id\":\"1738\",\"type\":\"Line\"},{\"attributes\":{},\"id\":\"1648\",\"type\":\"SaveTool\"},{\"attributes\":{},\"id\":\"1689\",\"type\":\"Selection\"},{\"attributes\":{},\"id\":\"1649\",\"type\":\"PanTool\"},{\"attributes\":{},\"id\":\"1652\",\"type\":\"ResetTool\"},{\"attributes\":{},\"id\":\"1650\",\"type\":\"WheelZoomTool\"},{\"attributes\":{},\"id\":\"1705\",\"type\":\"UnionRenderers\"},{\"attributes\":{\"label\":{\"value\":\"gdp_per_capita\"},\"renderers\":[{\"id\":\"1673\"}]},\"id\":\"1686\",\"type\":\"LegendItem\"},{\"attributes\":{\"data\":{\"Date\":[\"2006-06\",\"2006-09\",\"2006-12\",\"2007-03\",\"2007-06\",\"2007-09\",\"2007-12\",\"2008-03\",\"2008-06\",\"2008-09\",\"2008-12\",\"2009-03\",\"2009-06\",\"2009-09\",\"2009-12\",\"2010-03\",\"2010-06\",\"2010-09\",\"2010-12\",\"2011-03\",\"2011-06\",\"2011-09\",\"2011-12\",\"2012-03\",\"2012-06\",\"2012-09\",\"2012-12\",\"2013-03\",\"2013-06\",\"2013-09\",\"2013-12\",\"2014-03\",\"2014-06\",\"2014-09\",\"2014-12\",\"2015-03\",\"2015-06\",\"2015-09\",\"2015-12\",\"2016-03\",\"2016-06\",\"2016-09\",\"2016-12\",\"2017-03\",\"2017-06\",\"2017-09\",\"2017-12\",\"2018-03\",\"2018-06\",\"2018-09\",\"2018-12\",\"2019-03\"],\"Variable\":[\"unemployment_rate\",\"unemployment_rate\",\"unemployment_rate\",\"unemployment_rate\",\"unemployment_rate\",\"unemployment_rate\",\"unemployment_rate\",\"unemployment_rate\",\"unemployment_rate\",\"unemployment_rate\",\"unemployment_rate\",\"unemployment_rate\",\"unemployment_rate\",\"unemployment_rate\",\"unemployment_rate\",\"unemployment_rate\",\"unemployment_rate\",\"unemployment_rate\",\"unemployment_rate\",\"unemployment_rate\",\"unemployment_rate\",\"unemployment_rate\",\"unemployment_rate\",\"unemployment_rate\",\"unemployment_rate\",\"unemployment_rate\",\"unemployment_rate\",\"unemployment_rate\",\"unemployment_rate\",\"unemployment_rate\",\"unemployment_rate\",\"unemployment_rate\",\"unemployment_rate\",\"unemployment_rate\",\"unemployment_rate\",\"unemployment_rate\",\"unemployment_rate\",\"unemployment_rate\",\"unemployment_rate\",\"unemployment_rate\",\"unemployment_rate\",\"unemployment_rate\",\"unemployment_rate\",\"unemployment_rate\",\"unemployment_rate\",\"unemployment_rate\",\"unemployment_rate\",\"unemployment_rate\",\"unemployment_rate\",\"unemployment_rate\",\"unemployment_rate\",\"unemployment_rate\"],\"value\":{\"__ndarray__\":\"YAUvp+DllL9AVVVVVVWVv4AQkyuIyZW/QCELWchClr8gbMEWbMGmv+AFfUFf0Je/AIZhGIZhmD8ABn1BX9CnvwAZnI/B+Zg/AIZhGIZhmD9wxB1xR9yxP/BNb3rTm84/gB/BfQT3oT8QJ3VfHluhv3AfwX0E96G/gBLkKUGekr8wx3Ecx3GsvwAAAAAAAAAAABQUFBQUpL8AAAAAAAAAAAAAAAAAAAAA4IfG+tBYrz8AAAAAAAAAAAAAAAAAAAAAAAAAAAAAAACg2Imd2ImtP4AS5ClBnpK/YC+hvYT2oj/AJEmSJEmSPwAAAAAAAAAAgB/BfQT3oT8AAAAAAAAAAAAndV8eW5E/IBERERERoT+gEEIIIYSQvwAAAAAAAAAAINq8T3HJkL8AERERERGRPzjavE9xybC/AAAAAAAAAAAAAAAAAAAAAIAfwX0E95G/oCRJkiRJoj/AexphuaeRP6C6L4+tCKq/gCRJkiRJor9gL6G9hPaiPwAAAAAAAAAA0LZt27Ztq78gNcF4K/usvwAAAAAAAAAAgBSuR+F6lD8=\",\"dtype\":\"float64\",\"order\":\"little\",\"shape\":[52]}},\"selected\":{\"id\":\"1689\"},\"selection_policy\":{\"id\":\"1705\"}},\"id\":\"1688\",\"type\":\"ColumnDataSource\"},{\"attributes\":{\"overlay\":{\"id\":\"1653\"}},\"id\":\"1651\",\"type\":\"BoxZoomTool\"},{\"attributes\":{\"label\":{\"value\":\"unemployment_rate\"},\"renderers\":[{\"id\":\"1694\"}]},\"id\":\"1708\",\"type\":\"LegendItem\"},{\"attributes\":{\"label\":{\"value\":\"rba\"},\"renderers\":[{\"id\":\"1740\"}]},\"id\":\"1758\",\"type\":\"LegendItem\"},{\"attributes\":{\"line_color\":\"#fc4f30\",\"line_width\":2,\"x\":{\"field\":\"Date\"},\"y\":{\"field\":\"value\"}},\"id\":\"1709\",\"type\":\"Line\"},{\"attributes\":{},\"id\":\"1663\",\"type\":\"AllLabels\"},{\"attributes\":{\"coordinates\":null,\"data_source\":{\"id\":\"1667\"},\"glyph\":{\"id\":\"1670\"},\"group\":null,\"hover_glyph\":null,\"muted_glyph\":{\"id\":\"1672\"},\"nonselection_glyph\":{\"id\":\"1671\"},\"selection_glyph\":{\"id\":\"1687\"},\"view\":{\"id\":\"1674\"}},\"id\":\"1673\",\"type\":\"GlyphRenderer\"},{\"attributes\":{\"source\":{\"id\":\"1688\"}},\"id\":\"1695\",\"type\":\"CDSView\"},{\"attributes\":{\"line_alpha\":0.1,\"line_color\":\"#e5ae38\",\"line_width\":2,\"x\":{\"field\":\"Date\"},\"y\":{\"field\":\"value\"}},\"id\":\"1714\",\"type\":\"Line\"},{\"attributes\":{},\"id\":\"1665\",\"type\":\"BasicTickFormatter\"},{\"attributes\":{\"below\":[{\"id\":\"1641\"}],\"center\":[{\"id\":\"1643\"},{\"id\":\"1647\"}],\"left\":[{\"id\":\"1644\"}],\"margin\":[5,5,5,5],\"min_border_bottom\":10,\"min_border_left\":10,\"min_border_right\":10,\"min_border_top\":10,\"renderers\":[{\"id\":\"1673\"},{\"id\":\"1694\"},{\"id\":\"1716\"},{\"id\":\"1740\"}],\"right\":[{\"id\":\"1685\"}],\"sizing_mode\":\"fixed\",\"title\":{\"id\":\"1633\"},\"toolbar\":{\"id\":\"1654\"},\"width\":1000,\"x_range\":{\"id\":\"1626\"},\"x_scale\":{\"id\":\"1637\"},\"y_range\":{\"id\":\"1627\"},\"y_scale\":{\"id\":\"1639\"}},\"id\":\"1632\",\"subtype\":\"Figure\",\"type\":\"Plot\"},{\"attributes\":{\"margin\":[5,5,5,5],\"name\":\"HSpacer02804\",\"sizing_mode\":\"stretch_width\"},\"id\":\"1625\",\"type\":\"Spacer\"},{\"attributes\":{\"source\":{\"id\":\"1710\"}},\"id\":\"1717\",\"type\":\"CDSView\"},{\"attributes\":{\"line_color\":\"#fc4f30\",\"line_width\":2,\"x\":{\"field\":\"Date\"},\"y\":{\"field\":\"value\"}},\"id\":\"1691\",\"type\":\"Line\"},{\"attributes\":{\"line_alpha\":0.1,\"line_color\":\"#30a2da\",\"line_width\":2,\"x\":{\"field\":\"Date\"},\"y\":{\"field\":\"value\"}},\"id\":\"1671\",\"type\":\"Line\"},{\"attributes\":{\"coordinates\":null,\"data_source\":{\"id\":\"1688\"},\"glyph\":{\"id\":\"1691\"},\"group\":null,\"hover_glyph\":null,\"muted_glyph\":{\"id\":\"1693\"},\"nonselection_glyph\":{\"id\":\"1692\"},\"selection_glyph\":{\"id\":\"1709\"},\"view\":{\"id\":\"1695\"}},\"id\":\"1694\",\"type\":\"GlyphRenderer\"},{\"attributes\":{\"line_alpha\":0.2,\"line_color\":\"#6d904f\",\"line_width\":2,\"x\":{\"field\":\"Date\"},\"y\":{\"field\":\"value\"}},\"id\":\"1739\",\"type\":\"Line\"},{\"attributes\":{\"line_color\":\"#e5ae38\",\"line_width\":2,\"x\":{\"field\":\"Date\"},\"y\":{\"field\":\"value\"}},\"id\":\"1713\",\"type\":\"Line\"},{\"attributes\":{},\"id\":\"1735\",\"type\":\"Selection\"},{\"attributes\":{\"coordinates\":null,\"data_source\":{\"id\":\"1710\"},\"glyph\":{\"id\":\"1713\"},\"group\":null,\"hover_glyph\":null,\"muted_glyph\":{\"id\":\"1715\"},\"nonselection_glyph\":{\"id\":\"1714\"},\"selection_glyph\":{\"id\":\"1733\"},\"view\":{\"id\":\"1717\"}},\"id\":\"1716\",\"type\":\"GlyphRenderer\"},{\"attributes\":{\"data\":{\"Date\":[\"2006-06\",\"2006-09\",\"2006-12\",\"2007-03\",\"2007-06\",\"2007-09\",\"2007-12\",\"2008-03\",\"2008-06\",\"2008-09\",\"2008-12\",\"2009-03\",\"2009-06\",\"2009-09\",\"2009-12\",\"2010-03\",\"2010-06\",\"2010-09\",\"2010-12\",\"2011-03\",\"2011-06\",\"2011-09\",\"2011-12\",\"2012-03\",\"2012-06\",\"2012-09\",\"2012-12\",\"2013-03\",\"2013-06\",\"2013-09\",\"2013-12\",\"2014-03\",\"2014-06\",\"2014-09\",\"2014-12\",\"2015-03\",\"2015-06\",\"2015-09\",\"2015-12\",\"2016-03\",\"2016-06\",\"2016-09\",\"2016-12\",\"2017-03\",\"2017-06\",\"2017-09\",\"2017-12\",\"2018-03\",\"2018-06\",\"2018-09\",\"2018-12\",\"2019-03\"],\"Variable\":[\"rba\",\"rba\",\"rba\",\"rba\",\"rba\",\"rba\",\"rba\",\"rba\",\"rba\",\"rba\",\"rba\",\"rba\",\"rba\",\"rba\",\"rba\",\"rba\",\"rba\",\"rba\",\"rba\",\"rba\",\"rba\",\"rba\",\"rba\",\"rba\",\"rba\",\"rba\",\"rba\",\"rba\",\"rba\",\"rba\",\"rba\",\"rba\",\"rba\",\"rba\",\"rba\",\"rba\",\"rba\",\"rba\",\"rba\",\"rba\",\"rba\",\"rba\",\"rba\",\"rba\",\"rba\",\"rba\",\"rba\",\"rba\",\"rba\",\"rba\",\"rba\",\"rba\"],\"value\":{\"__ndarray__\":\"QBdddNFFpz9gIQtZyEKmP2BVVVVVVaU/AAAAAAAAAAAAAAAAAAAAAIAUrkfheqQ/IDuxEzuxoz9wL6G9hPayPwAAAAAAAAAAkHsaYbmnob9KkiRJkiTZvyAeHh4eHs6/EDuxEzuxs78AAAAAAAAAAAAAAAAAANA/EBERERERsT8AAAAAAADAPwAAAAAAAAAAIMdxHMdxrD8AAAAAAAAAAAAAAAAAAAAAAAAAAAAAAAAor6G8hvK6vwAAAAAAAAAAmJaWlpaWxr8AAAAAAAAAAJQkSZIkScK/AAAAAAAAAABYVVVVVVW1v0gXXXTRRbe/AAAAAAAAAAAAAAAAAAAAAAAAAAAAAAAAAAAAAAAAAAAAAAAAAAAAAJiZmZmZmbm/IMdxHMdxvL8AAAAAAAAAAAAAAAAAAAAAAAAAAAAAAAAAAAAAAADAv5QkSZIkScK/AAAAAAAAAAAAAAAAAAAAAAAAAAAAAAAAAAAAAAAAAAAAAAAAAAAAAAAAAAAAAAAAAAAAAAAAAAAAAAAAAAAAAAAAAAAAAAAAAAAAAAAAAAA=\",\"dtype\":\"float64\",\"order\":\"little\",\"shape\":[52]}},\"selected\":{\"id\":\"1735\"},\"selection_policy\":{\"id\":\"1755\"}},\"id\":\"1734\",\"type\":\"ColumnDataSource\"},{\"attributes\":{\"callback\":null,\"renderers\":[{\"id\":\"1673\"},{\"id\":\"1694\"},{\"id\":\"1716\"},{\"id\":\"1740\"}],\"tags\":[\"hv_created\"],\"tooltips\":[[\"Variable\",\"@{Variable}\"],[\"Date\",\"@{Date}\"],[\"value\",\"@{value}\"]]},\"id\":\"1628\",\"type\":\"HoverTool\"},{\"attributes\":{\"source\":{\"id\":\"1734\"}},\"id\":\"1741\",\"type\":\"CDSView\"},{\"attributes\":{\"factors\":[\"2006-06\",\"2006-09\",\"2006-12\",\"2007-03\",\"2007-06\",\"2007-09\",\"2007-12\",\"2008-03\",\"2008-06\",\"2008-09\",\"2008-12\",\"2009-03\",\"2009-06\",\"2009-09\",\"2009-12\",\"2010-03\",\"2010-06\",\"2010-09\",\"2010-12\",\"2011-03\",\"2011-06\",\"2011-09\",\"2011-12\",\"2012-03\",\"2012-06\",\"2012-09\",\"2012-12\",\"2013-03\",\"2013-06\",\"2013-09\",\"2013-12\",\"2014-03\",\"2014-06\",\"2014-09\",\"2014-12\",\"2015-03\",\"2015-06\",\"2015-09\",\"2015-12\",\"2016-03\",\"2016-06\",\"2016-09\",\"2016-12\",\"2017-03\",\"2017-06\",\"2017-09\",\"2017-12\",\"2018-03\",\"2018-06\",\"2018-09\",\"2018-12\",\"2019-03\"],\"tags\":[[[\"Date\",\"Date\",null]]]},\"id\":\"1626\",\"type\":\"FactorRange\"},{\"attributes\":{\"end\":0.3142857142857143,\"reset_end\":0.3142857142857143,\"reset_start\":-0.4571428571428572,\"start\":-0.4571428571428572,\"tags\":[[[\"value\",\"value\",null]]]},\"id\":\"1627\",\"type\":\"Range1d\"},{\"attributes\":{\"margin\":[5,5,5,5],\"name\":\"HSpacer02805\",\"sizing_mode\":\"stretch_width\"},\"id\":\"1904\",\"type\":\"Spacer\"},{\"attributes\":{},\"id\":\"1637\",\"type\":\"CategoricalScale\"},{\"attributes\":{},\"id\":\"1711\",\"type\":\"Selection\"},{\"attributes\":{\"line_alpha\":0.2,\"line_color\":\"#fc4f30\",\"line_width\":2,\"x\":{\"field\":\"Date\"},\"y\":{\"field\":\"value\"}},\"id\":\"1693\",\"type\":\"Line\"},{\"attributes\":{\"line_alpha\":0.2,\"line_color\":\"#e5ae38\",\"line_width\":2,\"x\":{\"field\":\"Date\"},\"y\":{\"field\":\"value\"}},\"id\":\"1715\",\"type\":\"Line\"},{\"attributes\":{},\"id\":\"1666\",\"type\":\"AllLabels\"},{\"attributes\":{\"line_color\":\"#e5ae38\",\"line_width\":2,\"x\":{\"field\":\"Date\"},\"y\":{\"field\":\"value\"}},\"id\":\"1733\",\"type\":\"Line\"},{\"attributes\":{\"children\":[{\"id\":\"1625\"},{\"id\":\"1632\"},{\"id\":\"1904\"}],\"margin\":[0,0,0,0],\"name\":\"Row02800\",\"tags\":[\"embedded\"]},\"id\":\"1624\",\"type\":\"Row\"},{\"attributes\":{\"data\":{\"Date\":[\"2006-06\",\"2006-09\",\"2006-12\",\"2007-03\",\"2007-06\",\"2007-09\",\"2007-12\",\"2008-03\",\"2008-06\",\"2008-09\",\"2008-12\",\"2009-03\",\"2009-06\",\"2009-09\",\"2009-12\",\"2010-03\",\"2010-06\",\"2010-09\",\"2010-12\",\"2011-03\",\"2011-06\",\"2011-09\",\"2011-12\",\"2012-03\",\"2012-06\",\"2012-09\",\"2012-12\",\"2013-03\",\"2013-06\",\"2013-09\",\"2013-12\",\"2014-03\",\"2014-06\",\"2014-09\",\"2014-12\",\"2015-03\",\"2015-06\",\"2015-09\",\"2015-12\",\"2016-03\",\"2016-06\",\"2016-09\",\"2016-12\",\"2017-03\",\"2017-06\",\"2017-09\",\"2017-12\",\"2018-03\",\"2018-06\",\"2018-09\",\"2018-12\",\"2019-03\"],\"Variable\":[\"gdp_per_capita\",\"gdp_per_capita\",\"gdp_per_capita\",\"gdp_per_capita\",\"gdp_per_capita\",\"gdp_per_capita\",\"gdp_per_capita\",\"gdp_per_capita\",\"gdp_per_capita\",\"gdp_per_capita\",\"gdp_per_capita\",\"gdp_per_capita\",\"gdp_per_capita\",\"gdp_per_capita\",\"gdp_per_capita\",\"gdp_per_capita\",\"gdp_per_capita\",\"gdp_per_capita\",\"gdp_per_capita\",\"gdp_per_capita\",\"gdp_per_capita\",\"gdp_per_capita\",\"gdp_per_capita\",\"gdp_per_capita\",\"gdp_per_capita\",\"gdp_per_capita\",\"gdp_per_capita\",\"gdp_per_capita\",\"gdp_per_capita\",\"gdp_per_capita\",\"gdp_per_capita\",\"gdp_per_capita\",\"gdp_per_capita\",\"gdp_per_capita\",\"gdp_per_capita\",\"gdp_per_capita\",\"gdp_per_capita\",\"gdp_per_capita\",\"gdp_per_capita\",\"gdp_per_capita\",\"gdp_per_capita\",\"gdp_per_capita\",\"gdp_per_capita\",\"gdp_per_capita\",\"gdp_per_capita\",\"gdp_per_capita\",\"gdp_per_capita\",\"gdp_per_capita\",\"gdp_per_capita\",\"gdp_per_capita\",\"gdp_per_capita\",\"gdp_per_capita\"],\"value\":{\"__ndarray__\":\"gIs6N9eviz/Asuxt4PSTP0BV6NDM8ZY/AEhkVE0Rkz+ApBIY1n+KPwBahaoPCIg/AGVGkih3jT9AjprrVkSVP4DN6mdVy5Y/wG6FRblTkT8A9GW2dv5yPwCV/8FT+X+/ANwezh8ohb8Ayvfn5oRVv4DxOWZ5E4s/gAsI9moimD/AW9wpouuXP4BTzEqATJI/ABrOrURDjT+AjidrbRuQPwA5p7c/QpE/gFSBAlBLhT8Ajr2XuD9uPwCQWWvrsEk/ADCZY8SrWT8AbIy7lJZcPwCocy5bplU/AGZV2WmNaT8AWJnFnCV9P4DtUQX9uYI/gIOPgnFEgD8AFtaesTZsPwAOEKft91S/ABRsK2qzYL8AZMmCKyBDvwBoysosRFA/AHzTnCseUz8A8OlYdxgzPwAAFYBEi04/AGqNER42YD8AFwgg6oB9P0CzYvk/iZA/QCbl57hOkj8Au33UawmKPwBWtpxR+XQ/AFp/SUmKZT8ATXT7Ovl7P4A4+YVrj4U/gKjoTnZvhj+A3k68ZOiDP4AR3Gv3PIE/gJK1ZOvmhT8=\",\"dtype\":\"float64\",\"order\":\"little\",\"shape\":[52]}},\"selected\":{\"id\":\"1668\"},\"selection_policy\":{\"id\":\"1682\"}},\"id\":\"1667\",\"type\":\"ColumnDataSource\"},{\"attributes\":{},\"id\":\"1668\",\"type\":\"Selection\"},{\"attributes\":{},\"id\":\"1729\",\"type\":\"UnionRenderers\"},{\"attributes\":{},\"id\":\"1639\",\"type\":\"LinearScale\"},{\"attributes\":{\"label\":{\"value\":\"inflation_rate\"},\"renderers\":[{\"id\":\"1716\"}]},\"id\":\"1732\",\"type\":\"LegendItem\"},{\"attributes\":{\"coordinates\":null,\"group\":null,\"text_color\":\"black\",\"text_font_size\":\"12pt\"},\"id\":\"1633\",\"type\":\"Title\"},{\"attributes\":{\"axis_label\":\"Date\",\"coordinates\":null,\"formatter\":{\"id\":\"1662\"},\"group\":null,\"major_label_orientation\":1.5707963267948966,\"major_label_policy\":{\"id\":\"1663\"},\"ticker\":{\"id\":\"1642\"}},\"id\":\"1641\",\"type\":\"CategoricalAxis\"},{\"attributes\":{\"line_color\":\"#6d904f\",\"line_width\":2,\"x\":{\"field\":\"Date\"},\"y\":{\"field\":\"value\"}},\"id\":\"1737\",\"type\":\"Line\"},{\"attributes\":{},\"id\":\"1755\",\"type\":\"UnionRenderers\"}],\"root_ids\":[\"1624\"]},\"title\":\"Bokeh Application\",\"version\":\"2.4.1\"}};\n",
       "    var render_items = [{\"docid\":\"3fcc302e-2c8c-4505-9f23-6a200bd13ad5\",\"root_ids\":[\"1624\"],\"roots\":{\"1624\":\"8623bc1b-8859-48d6-b555-b04edcc4d343\"}}];\n",
       "    root.Bokeh.embed.embed_items_notebook(docs_json, render_items);\n",
       "  }\n",
       "  if (root.Bokeh !== undefined && root.Bokeh.Panel !== undefined && ( root['Plotly'] !== undefined)) {\n",
       "    embed_document(root);\n",
       "  } else {\n",
       "    var attempts = 0;\n",
       "    var timer = setInterval(function(root) {\n",
       "      if (root.Bokeh !== undefined && root.Bokeh.Panel !== undefined && (root['Plotly'] !== undefined)) {\n",
       "        clearInterval(timer);\n",
       "        embed_document(root);\n",
       "      } else if (document.readyState == \"complete\") {\n",
       "        attempts++;\n",
       "        if (attempts > 200) {\n",
       "          clearInterval(timer);\n",
       "          console.log(\"Bokeh: ERROR: Unable to run BokehJS code because BokehJS library is missing\");\n",
       "        }\n",
       "      }\n",
       "    }, 25, root)\n",
       "  }\n",
       "})(window);</script>"
      ],
      "text/plain": [
       ":NdOverlay   [Variable]\n",
       "   :Curve   [Date]   (value)"
      ]
     },
     "execution_count": 29,
     "metadata": {
      "application/vnd.holoviews_exec.v0+json": {
       "id": "1624"
      }
     },
     "output_type": "execute_result"
    }
   ],
   "source": [
    "# Plot to line graph to analyse trend\n",
    "concat_pct.hvplot(x=\"Date\", y=[\"gdp_per_capita\",\"unemployment_rate\", \"inflation_rate\", \"rba\"], width=1000, height=600, rot=90\n",
    "                   )"
   ]
  },
  {
   "cell_type": "code",
   "execution_count": 30,
   "id": "9df4c42a-d506-44d5-951e-4a6cca982828",
   "metadata": {},
   "outputs": [
    {
     "data": {},
     "metadata": {},
     "output_type": "display_data"
    },
    {
     "data": {
      "application/vnd.holoviews_exec.v0+json": "",
      "text/html": [
       "<div id='1986'>\n",
       "\n",
       "\n",
       "\n",
       "\n",
       "\n",
       "  <div class=\"bk-root\" id=\"85b6c977-7676-4be3-86a3-673b22666d7c\" data-root-id=\"1986\"></div>\n",
       "</div>\n",
       "<script type=\"application/javascript\">(function(root) {\n",
       "  function embed_document(root) {\n",
       "    var docs_json = {\"fb04d7b9-fc01-4670-b121-065c2f9b72ff\":{\"defs\":[{\"extends\":null,\"module\":null,\"name\":\"ReactiveHTML1\",\"overrides\":[],\"properties\":[]},{\"extends\":null,\"module\":null,\"name\":\"FlexBox1\",\"overrides\":[],\"properties\":[{\"default\":\"flex-start\",\"kind\":null,\"name\":\"align_content\"},{\"default\":\"flex-start\",\"kind\":null,\"name\":\"align_items\"},{\"default\":\"row\",\"kind\":null,\"name\":\"flex_direction\"},{\"default\":\"wrap\",\"kind\":null,\"name\":\"flex_wrap\"},{\"default\":\"flex-start\",\"kind\":null,\"name\":\"justify_content\"}]},{\"extends\":null,\"module\":null,\"name\":\"GridStack1\",\"overrides\":[],\"properties\":[{\"default\":\"warn\",\"kind\":null,\"name\":\"mode\"},{\"default\":null,\"kind\":null,\"name\":\"ncols\"},{\"default\":null,\"kind\":null,\"name\":\"nrows\"},{\"default\":true,\"kind\":null,\"name\":\"allow_resize\"},{\"default\":true,\"kind\":null,\"name\":\"allow_drag\"},{\"default\":[],\"kind\":null,\"name\":\"state\"}]},{\"extends\":null,\"module\":null,\"name\":\"click1\",\"overrides\":[],\"properties\":[{\"default\":\"\",\"kind\":null,\"name\":\"terminal_output\"},{\"default\":\"\",\"kind\":null,\"name\":\"debug_name\"},{\"default\":0,\"kind\":null,\"name\":\"clears\"}]},{\"extends\":null,\"module\":null,\"name\":\"TemplateActions1\",\"overrides\":[],\"properties\":[{\"default\":0,\"kind\":null,\"name\":\"open_modal\"},{\"default\":0,\"kind\":null,\"name\":\"close_modal\"}]},{\"extends\":null,\"module\":null,\"name\":\"MaterialTemplateActions1\",\"overrides\":[],\"properties\":[{\"default\":0,\"kind\":null,\"name\":\"open_modal\"},{\"default\":0,\"kind\":null,\"name\":\"close_modal\"}]}],\"roots\":{\"references\":[{\"attributes\":{},\"id\":\"2007\",\"type\":\"PanTool\"},{\"attributes\":{},\"id\":\"2029\",\"type\":\"BasicTicker\"},{\"attributes\":{\"fill_color\":{\"field\":\"zvalues\",\"transform\":{\"id\":\"2019\"}},\"height\":{\"value\":1},\"line_alpha\":{\"value\":0},\"line_color\":{\"value\":\"#1f77b4\"},\"width\":{\"value\":1},\"x\":{\"field\":\"columns\"},\"y\":{\"field\":\"index\"}},\"id\":\"2025\",\"type\":\"Rect\"},{\"attributes\":{},\"id\":\"2041\",\"type\":\"NoOverlap\"},{\"attributes\":{\"margin\":[5,5,5,5],\"name\":\"HSpacer03493\",\"sizing_mode\":\"stretch_width\"},\"id\":\"1987\",\"type\":\"Spacer\"},{\"attributes\":{\"data\":{\"columns\":[\"gdp_per_capita\",\"gdp_per_capita\",\"gdp_per_capita\",\"gdp_per_capita\",\"unemployment_rate\",\"unemployment_rate\",\"unemployment_rate\",\"unemployment_rate\",\"inflation_rate\",\"inflation_rate\",\"inflation_rate\",\"inflation_rate\",\"rba\",\"rba\",\"rba\",\"rba\"],\"index\":[\"gdp_per_capita\",\"unemployment_rate\",\"inflation_rate\",\"rba\",\"gdp_per_capita\",\"unemployment_rate\",\"inflation_rate\",\"rba\",\"gdp_per_capita\",\"unemployment_rate\",\"inflation_rate\",\"rba\",\"gdp_per_capita\",\"unemployment_rate\",\"inflation_rate\",\"rba\"],\"value\":[\"1\",\"-0.35409\",\"0.38595\",\"0.44322\",\"-0.35409\",\"1\",\"-0.13023\",\"-0.48466\",\"0.38595\",\"-0.13023\",\"1\",\"0.33499\",\"0.44322\",\"-0.48466\",\"0.33499\",\"1\"],\"zvalues\":{\"__ndarray__\":\"AAAAAAAA8D+gEKX/aanWv4aNBClqs9g/6XhhkqVd3D+gEKX/aanWvwAAAAAAAPA/6uRE/FSrwL+kIBtXrQTfv4aNBClqs9g/6uRE/FSrwL8AAAAAAADwPyL3u21ycNU/6XhhkqVd3D+kIBtXrQTfvyL3u21ycNU/AAAAAAAA8D8=\",\"dtype\":\"float64\",\"order\":\"little\",\"shape\":[16]}},\"selected\":{\"id\":\"2021\"},\"selection_policy\":{\"id\":\"2045\"}},\"id\":\"2020\",\"type\":\"ColumnDataSource\"},{\"attributes\":{},\"id\":\"2010\",\"type\":\"ResetTool\"},{\"attributes\":{\"source\":{\"id\":\"2020\"}},\"id\":\"2028\",\"type\":\"CDSView\"},{\"attributes\":{\"bottom_units\":\"screen\",\"coordinates\":null,\"fill_alpha\":0.5,\"fill_color\":\"lightgrey\",\"group\":null,\"left_units\":\"screen\",\"level\":\"overlay\",\"line_alpha\":1.0,\"line_color\":\"black\",\"line_dash\":[4,4],\"line_width\":2,\"right_units\":\"screen\",\"syncable\":false,\"top_units\":\"screen\"},\"id\":\"2011\",\"type\":\"BoxAnnotation\"},{\"attributes\":{\"axis_label\":\"\",\"coordinates\":null,\"formatter\":{\"id\":\"2032\"},\"group\":null,\"major_label_policy\":{\"id\":\"2033\"},\"ticker\":{\"id\":\"2001\"}},\"id\":\"2000\",\"type\":\"CategoricalAxis\"},{\"attributes\":{\"fill_color\":{\"field\":\"zvalues\",\"transform\":{\"id\":\"2019\"}},\"height\":{\"value\":1},\"line_alpha\":{\"value\":0},\"line_color\":{\"value\":\"#1f77b4\"},\"width\":{\"value\":1},\"x\":{\"field\":\"columns\"},\"y\":{\"field\":\"index\"}},\"id\":\"2023\",\"type\":\"Rect\"},{\"attributes\":{},\"id\":\"2006\",\"type\":\"SaveTool\"},{\"attributes\":{},\"id\":\"2008\",\"type\":\"WheelZoomTool\"},{\"attributes\":{},\"id\":\"2036\",\"type\":\"AllLabels\"},{\"attributes\":{},\"id\":\"2045\",\"type\":\"UnionRenderers\"},{\"attributes\":{\"coordinates\":null,\"data_source\":{\"id\":\"2020\"},\"glyph\":{\"id\":\"2023\"},\"group\":null,\"hover_glyph\":null,\"muted_glyph\":{\"id\":\"2026\"},\"nonselection_glyph\":{\"id\":\"2024\"},\"selection_glyph\":{\"id\":\"2025\"},\"view\":{\"id\":\"2028\"}},\"id\":\"2027\",\"type\":\"GlyphRenderer\"},{\"attributes\":{\"overlay\":{\"id\":\"2011\"}},\"id\":\"2009\",\"type\":\"BoxZoomTool\"},{\"attributes\":{},\"id\":\"1996\",\"type\":\"CategoricalScale\"},{\"attributes\":{\"coordinates\":null,\"group\":null,\"text_color\":\"black\",\"text_font_size\":\"12pt\"},\"id\":\"1992\",\"type\":\"Title\"},{\"attributes\":{\"axis\":{\"id\":\"2000\"},\"coordinates\":null,\"grid_line_color\":null,\"group\":null,\"ticker\":null},\"id\":\"2002\",\"type\":\"Grid\"},{\"attributes\":{},\"id\":\"2035\",\"type\":\"CategoricalTickFormatter\"},{\"attributes\":{},\"id\":\"2033\",\"type\":\"AllLabels\"},{\"attributes\":{\"factors\":[\"gdp_per_capita\",\"unemployment_rate\",\"inflation_rate\",\"rba\"],\"tags\":[[[\"columns\",\"columns\",null]]]},\"id\":\"1988\",\"type\":\"FactorRange\"},{\"attributes\":{},\"id\":\"1998\",\"type\":\"CategoricalScale\"},{\"attributes\":{\"tools\":[{\"id\":\"1990\"},{\"id\":\"2006\"},{\"id\":\"2007\"},{\"id\":\"2008\"},{\"id\":\"2009\"},{\"id\":\"2010\"}]},\"id\":\"2012\",\"type\":\"Toolbar\"},{\"attributes\":{\"children\":[{\"id\":\"1987\"},{\"id\":\"1991\"},{\"id\":\"2059\"}],\"margin\":[0,0,0,0],\"name\":\"Row03489\",\"tags\":[\"embedded\"]},\"id\":\"1986\",\"type\":\"Row\"},{\"attributes\":{\"axis\":{\"id\":\"2003\"},\"coordinates\":null,\"dimension\":1,\"grid_line_color\":null,\"group\":null,\"ticker\":null},\"id\":\"2005\",\"type\":\"Grid\"},{\"attributes\":{\"axis_label\":\"\",\"coordinates\":null,\"formatter\":{\"id\":\"2035\"},\"group\":null,\"major_label_policy\":{\"id\":\"2036\"},\"ticker\":{\"id\":\"2004\"}},\"id\":\"2003\",\"type\":\"CategoricalAxis\"},{\"attributes\":{\"fill_alpha\":{\"value\":0.2},\"fill_color\":{\"field\":\"zvalues\",\"transform\":{\"id\":\"2019\"}},\"hatch_alpha\":{\"value\":0.2},\"height\":{\"value\":1},\"line_alpha\":{\"value\":0},\"line_color\":{\"value\":\"#1f77b4\"},\"width\":{\"value\":1},\"x\":{\"field\":\"columns\"},\"y\":{\"field\":\"index\"}},\"id\":\"2026\",\"type\":\"Rect\"},{\"attributes\":{},\"id\":\"2001\",\"type\":\"CategoricalTicker\"},{\"attributes\":{},\"id\":\"2021\",\"type\":\"Selection\"},{\"attributes\":{\"factors\":[\"gdp_per_capita\",\"unemployment_rate\",\"inflation_rate\",\"rba\"],\"tags\":[[[\"index\",\"index\",null]]]},\"id\":\"1989\",\"type\":\"FactorRange\"},{\"attributes\":{},\"id\":\"2004\",\"type\":\"CategoricalTicker\"},{\"attributes\":{\"margin\":[5,5,5,5],\"name\":\"HSpacer03494\",\"sizing_mode\":\"stretch_width\"},\"id\":\"2059\",\"type\":\"Spacer\"},{\"attributes\":{\"callback\":null,\"renderers\":[{\"id\":\"2027\"}],\"tags\":[\"hv_created\"],\"tooltips\":[[\"columns\",\"@{columns}\"],[\"index\",\"@{index}\"],[\"value\",\"@{value}\"]]},\"id\":\"1990\",\"type\":\"HoverTool\"},{\"attributes\":{},\"id\":\"2032\",\"type\":\"CategoricalTickFormatter\"},{\"attributes\":{\"below\":[{\"id\":\"2000\"}],\"center\":[{\"id\":\"2002\"},{\"id\":\"2005\"}],\"height\":300,\"left\":[{\"id\":\"2003\"}],\"margin\":[5,5,5,5],\"min_border_bottom\":10,\"min_border_left\":10,\"min_border_right\":10,\"min_border_top\":10,\"renderers\":[{\"id\":\"2027\"}],\"right\":[{\"id\":\"2030\"}],\"sizing_mode\":\"fixed\",\"title\":{\"id\":\"1992\"},\"toolbar\":{\"id\":\"2012\"},\"width\":700,\"x_range\":{\"id\":\"1988\"},\"x_scale\":{\"id\":\"1996\"},\"y_range\":{\"id\":\"1989\"},\"y_scale\":{\"id\":\"1998\"}},\"id\":\"1991\",\"subtype\":\"Figure\",\"type\":\"Plot\"},{\"attributes\":{\"fill_alpha\":{\"value\":0.1},\"fill_color\":{\"field\":\"zvalues\",\"transform\":{\"id\":\"2019\"}},\"hatch_alpha\":{\"value\":0.1},\"height\":{\"value\":1},\"line_alpha\":{\"value\":0},\"line_color\":{\"value\":\"#1f77b4\"},\"width\":{\"value\":1},\"x\":{\"field\":\"columns\"},\"y\":{\"field\":\"index\"}},\"id\":\"2024\",\"type\":\"Rect\"},{\"attributes\":{\"bar_line_color\":\"black\",\"color_mapper\":{\"id\":\"2019\"},\"coordinates\":null,\"group\":null,\"label_standoff\":8,\"location\":[0,0],\"major_label_policy\":{\"id\":\"2041\"},\"major_tick_line_color\":\"black\",\"ticker\":{\"id\":\"2029\"}},\"id\":\"2030\",\"type\":\"ColorBar\"},{\"attributes\":{\"high\":1.0,\"low\":-0.48466046816293784,\"nan_color\":\"white\",\"palette\":[\"#b3fef5\",\"#b0fef5\",\"#adfdf5\",\"#a9fcf5\",\"#a6fbf6\",\"#a3faf6\",\"#a0faf6\",\"#9df9f6\",\"#9af8f6\",\"#97f7f6\",\"#93f7f6\",\"#90f6f6\",\"#8df5f6\",\"#8af4f7\",\"#87f3f7\",\"#83f2f7\",\"#80f2f7\",\"#7df1f7\",\"#79f0f7\",\"#76eff7\",\"#73eef7\",\"#6fedf8\",\"#6cecf8\",\"#68ecf8\",\"#65ebf8\",\"#61eaf8\",\"#5ee9f8\",\"#5ae8f8\",\"#57e7f8\",\"#53e6f8\",\"#50e5f9\",\"#4ce4f9\",\"#49e3f9\",\"#45e2f9\",\"#42e1f9\",\"#3ee0f9\",\"#3bdff9\",\"#38def9\",\"#35ddf9\",\"#32dcf9\",\"#30dbfa\",\"#2ed9fa\",\"#2dd8fa\",\"#2cd7fa\",\"#2bd6fa\",\"#2bd5fa\",\"#2ad3fa\",\"#2ad2fa\",\"#29d1fa\",\"#29d0fb\",\"#29cffb\",\"#28cdfb\",\"#28ccfb\",\"#28cbfb\",\"#28cafb\",\"#28c8fb\",\"#28c7fb\",\"#29c6fb\",\"#29c5fb\",\"#29c4fb\",\"#29c2fb\",\"#2ac1fb\",\"#2ac0fb\",\"#2bbffb\",\"#2bbdfc\",\"#2cbcfc\",\"#2dbbfc\",\"#2db9fc\",\"#2eb8fc\",\"#2fb7fc\",\"#2fb6fc\",\"#30b4fc\",\"#31b3fc\",\"#32b2fc\",\"#32b0fc\",\"#33affc\",\"#33aefc\",\"#34adfc\",\"#34abfc\",\"#34aafc\",\"#35a9fc\",\"#35a8fc\",\"#35a6fc\",\"#35a5fc\",\"#35a4fc\",\"#35a3fc\",\"#35a1fc\",\"#35a0fc\",\"#359ffc\",\"#359dfc\",\"#359cfc\",\"#359bfc\",\"#349afd\",\"#3498fd\",\"#3497fd\",\"#3396fd\",\"#3395fd\",\"#3293fd\",\"#3292fd\",\"#3191fd\",\"#3090fd\",\"#308ffd\",\"#2f8dfd\",\"#2f8cfd\",\"#2e8bfd\",\"#2e8afd\",\"#2d88fd\",\"#2d87fd\",\"#2c86fd\",\"#2c84fd\",\"#2c83fd\",\"#2c82fd\",\"#2b81fd\",\"#2b7ffd\",\"#2b7efd\",\"#2b7dfd\",\"#2b7bfd\",\"#2b7afd\",\"#2b79fd\",\"#2b77fd\",\"#2b76fd\",\"#2b75fd\",\"#2b73fd\",\"#2c72fd\",\"#2c71fd\",\"#2c6ffd\",\"#2c6efd\",\"#2d6cfd\",\"#2d6bfd\",\"#2d6afc\",\"#2e68fc\",\"#2e67fc\",\"#2e65fc\",\"#2e64fc\",\"#2f62fc\",\"#2f61fc\",\"#2f5ffc\",\"#2f5efc\",\"#2f5dfc\",\"#2f5bfc\",\"#2f5afc\",\"#2f58fb\",\"#2f57fb\",\"#2f55fb\",\"#2f53fb\",\"#2f52fb\",\"#2f50fb\",\"#2f4ffb\",\"#2f4dfb\",\"#2e4cfb\",\"#2e4afb\",\"#2e48fb\",\"#2e47fa\",\"#2d45fa\",\"#2d43fa\",\"#2d42fa\",\"#2d40fa\",\"#2c3efa\",\"#2c3dfa\",\"#2b3bf9\",\"#2b39f9\",\"#2a37f9\",\"#2a36f8\",\"#2934f8\",\"#2832f7\",\"#2831f7\",\"#272ff6\",\"#262ef5\",\"#252cf5\",\"#252af4\",\"#2429f3\",\"#2327f2\",\"#2226f1\",\"#2124f0\",\"#2023ef\",\"#1f22ee\",\"#1e20ed\",\"#1d1feb\",\"#1c1eea\",\"#1b1ce9\",\"#1a1be7\",\"#181ae6\",\"#1719e5\",\"#1618e3\",\"#1417e1\",\"#1316e0\",\"#1215de\",\"#1014dc\",\"#0f13db\",\"#0e12d9\",\"#0d11d7\",\"#0c10d5\",\"#0b0fd3\",\"#0a0ed1\",\"#090dd0\",\"#080dce\",\"#080ccc\",\"#070bca\",\"#070ac8\",\"#0709c6\",\"#0708c4\",\"#0707c2\",\"#0707bf\",\"#0806bd\",\"#0806bb\",\"#0905b9\",\"#0904b7\",\"#0a04b5\",\"#0a04b2\",\"#0b03b0\",\"#0c03ae\",\"#0d02ab\",\"#0e02a9\",\"#0e02a7\",\"#0f02a4\",\"#0f01a2\",\"#1001a0\",\"#10019d\",\"#10019b\",\"#100199\",\"#100197\",\"#100194\",\"#0f0192\",\"#0f0190\",\"#0f018e\",\"#0e018b\",\"#0e0189\",\"#0d0187\",\"#0d0185\",\"#0c0183\",\"#0b0181\",\"#0b017e\",\"#0a017c\",\"#09017a\",\"#090178\",\"#080276\",\"#070274\",\"#060272\",\"#060270\",\"#05026e\",\"#04026c\",\"#030269\",\"#030267\",\"#020265\",\"#010263\",\"#010261\",\"#00025f\",\"#00025d\",\"#00025b\",\"#000259\",\"#000257\",\"#000255\",\"#000154\",\"#000152\",\"#000150\",\"#00004e\"]},\"id\":\"2019\",\"type\":\"LinearColorMapper\"}],\"root_ids\":[\"1986\"]},\"title\":\"Bokeh Application\",\"version\":\"2.4.1\"}};\n",
       "    var render_items = [{\"docid\":\"fb04d7b9-fc01-4670-b121-065c2f9b72ff\",\"root_ids\":[\"1986\"],\"roots\":{\"1986\":\"85b6c977-7676-4be3-86a3-673b22666d7c\"}}];\n",
       "    root.Bokeh.embed.embed_items_notebook(docs_json, render_items);\n",
       "  }\n",
       "  if (root.Bokeh !== undefined && root.Bokeh.Panel !== undefined && ( root['Plotly'] !== undefined)) {\n",
       "    embed_document(root);\n",
       "  } else {\n",
       "    var attempts = 0;\n",
       "    var timer = setInterval(function(root) {\n",
       "      if (root.Bokeh !== undefined && root.Bokeh.Panel !== undefined && (root['Plotly'] !== undefined)) {\n",
       "        clearInterval(timer);\n",
       "        embed_document(root);\n",
       "      } else if (document.readyState == \"complete\") {\n",
       "        attempts++;\n",
       "        if (attempts > 200) {\n",
       "          clearInterval(timer);\n",
       "          console.log(\"Bokeh: ERROR: Unable to run BokehJS code because BokehJS library is missing\");\n",
       "        }\n",
       "      }\n",
       "    }, 25, root)\n",
       "  }\n",
       "})(window);</script>"
      ],
      "text/plain": [
       ":HeatMap   [columns,index]   (value)"
      ]
     },
     "execution_count": 30,
     "metadata": {
      "application/vnd.holoviews_exec.v0+json": {
       "id": "1986"
      }
     },
     "output_type": "execute_result"
    }
   ],
   "source": [
    "#  Plot correlatrion matrix to find the correlation of trend\n",
    "correlation_data = concat_pct.corr()\n",
    "correlation_data.hvplot.heatmap()"
   ]
  },
  {
   "cell_type": "code",
   "execution_count": null,
   "id": "930dfa5b-49f1-42d1-b095-f1585f17a606",
   "metadata": {},
   "outputs": [],
   "source": []
  }
 ],
 "metadata": {
  "kernelspec": {
   "display_name": "Python [conda env:pyvizenv]",
   "language": "python",
   "name": "conda-env-pyvizenv-py"
  },
  "language_info": {
   "codemirror_mode": {
    "name": "ipython",
    "version": 3
   },
   "file_extension": ".py",
   "mimetype": "text/x-python",
   "name": "python",
   "nbconvert_exporter": "python",
   "pygments_lexer": "ipython3",
   "version": "3.7.11"
  }
 },
 "nbformat": 4,
 "nbformat_minor": 5
}
