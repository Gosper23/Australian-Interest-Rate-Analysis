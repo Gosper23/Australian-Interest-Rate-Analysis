{
 "cells": [
  {
   "cell_type": "code",
   "execution_count": 1,
   "id": "66fbafc7-9b83-4eb1-8f05-6a4584eef91a",
   "metadata": {},
   "outputs": [],
   "source": [
    "import pandas as pd\n",
    "import numpy as np\n",
    "import datetime as dt\n",
    "from pathlib import Path\n",
    "import seaborn as sns\n",
    "\n",
    "\n",
    "%matplotlib inline"
   ]
  },
  {
   "cell_type": "code",
   "execution_count": 2,
   "id": "365523b2-1c97-40a5-a0ee-ef0dffaa73de",
   "metadata": {},
   "outputs": [
    {
     "data": {
      "text/html": [
       "<div>\n",
       "<style scoped>\n",
       "    .dataframe tbody tr th:only-of-type {\n",
       "        vertical-align: middle;\n",
       "    }\n",
       "\n",
       "    .dataframe tbody tr th {\n",
       "        vertical-align: top;\n",
       "    }\n",
       "\n",
       "    .dataframe thead th {\n",
       "        text-align: right;\n",
       "    }\n",
       "</style>\n",
       "<table border=\"1\" class=\"dataframe\">\n",
       "  <thead>\n",
       "    <tr style=\"text-align: right;\">\n",
       "      <th></th>\n",
       "      <th>Change</th>\n",
       "      <th>Cash Rate Target</th>\n",
       "    </tr>\n",
       "    <tr>\n",
       "      <th>Effective date</th>\n",
       "      <th></th>\n",
       "      <th></th>\n",
       "    </tr>\n",
       "  </thead>\n",
       "  <tbody>\n",
       "    <tr>\n",
       "      <th>1990-01-23</th>\n",
       "      <td>-0.50 to -1.00</td>\n",
       "      <td>17.00 to 17.50</td>\n",
       "    </tr>\n",
       "    <tr>\n",
       "      <th>1990-02-15</th>\n",
       "      <td>-0.5</td>\n",
       "      <td>16.50 to 17.00</td>\n",
       "    </tr>\n",
       "    <tr>\n",
       "      <th>1990-03-07</th>\n",
       "      <td>0</td>\n",
       "      <td>16.50 to 17.00</td>\n",
       "    </tr>\n",
       "    <tr>\n",
       "      <th>1990-04-04</th>\n",
       "      <td>-1.00 to -1.50</td>\n",
       "      <td>15.00 to 15.50</td>\n",
       "    </tr>\n",
       "    <tr>\n",
       "      <th>1990-05-02</th>\n",
       "      <td>0</td>\n",
       "      <td>15.00 to 15.50</td>\n",
       "    </tr>\n",
       "  </tbody>\n",
       "</table>\n",
       "</div>"
      ],
      "text/plain": [
       "                        Change Cash Rate Target\n",
       "Effective date                                 \n",
       "1990-01-23      -0.50 to -1.00   17.00 to 17.50\n",
       "1990-02-15                -0.5   16.50 to 17.00\n",
       "1990-03-07                   0   16.50 to 17.00\n",
       "1990-04-04      -1.00 to -1.50   15.00 to 15.50\n",
       "1990-05-02                   0   15.00 to 15.50"
      ]
     },
     "execution_count": 2,
     "metadata": {},
     "output_type": "execute_result"
    }
   ],
   "source": [
    "rba_csv = Path(\"RBA Cash Rate.csv\")\n",
    "rba_returns = pd.read_csv(rba_csv, index_col=\"Effective date\", parse_dates=True, infer_datetime_format=True)\n",
    "# rba_returns.describe()\n",
    "rba_returns.sort_index(ascending = True, inplace = True)\n",
    "rba_returns.head()"
   ]
  },
  {
   "cell_type": "code",
   "execution_count": 3,
   "id": "a8fd4e18-6ad5-4433-b6fe-98068d69f0a5",
   "metadata": {},
   "outputs": [
    {
     "name": "stdout",
     "output_type": "stream",
     "text": [
      "Change              0\n",
      "Cash Rate Target    0\n",
      "dtype: int64\n",
      "Empty DataFrame\n",
      "Columns: [Change, Cash Rate Target]\n",
      "Index: []\n"
     ]
    }
   ],
   "source": [
    "print(rba_returns.isnull().sum())\n",
    "print(rba_returns[rba_returns.isnull().any(axis = 1)])"
   ]
  },
  {
   "cell_type": "code",
   "execution_count": 4,
   "id": "be1bb0f2-2291-4f5b-ad72-f8f9ab112b03",
   "metadata": {},
   "outputs": [
    {
     "data": {
      "text/plain": [
       "Change              0\n",
       "Cash Rate Target    0\n",
       "dtype: int64"
      ]
     },
     "execution_count": 4,
     "metadata": {},
     "output_type": "execute_result"
    }
   ],
   "source": [
    "rba_returns.dropna(inplace=True)\n",
    "rba_returns.isnull().sum()"
   ]
  },
  {
   "cell_type": "code",
   "execution_count": 5,
   "id": "06f2895c-9d6c-4a6d-af2e-6b58615d51d5",
   "metadata": {},
   "outputs": [
    {
     "data": {
      "text/html": [
       "<div>\n",
       "<style scoped>\n",
       "    .dataframe tbody tr th:only-of-type {\n",
       "        vertical-align: middle;\n",
       "    }\n",
       "\n",
       "    .dataframe tbody tr th {\n",
       "        vertical-align: top;\n",
       "    }\n",
       "\n",
       "    .dataframe thead th {\n",
       "        text-align: right;\n",
       "    }\n",
       "</style>\n",
       "<table border=\"1\" class=\"dataframe\">\n",
       "  <thead>\n",
       "    <tr style=\"text-align: right;\">\n",
       "      <th></th>\n",
       "      <th>Change</th>\n",
       "      <th>Cash Rate Target</th>\n",
       "    </tr>\n",
       "    <tr>\n",
       "      <th>Effective date</th>\n",
       "      <th></th>\n",
       "      <th></th>\n",
       "    </tr>\n",
       "  </thead>\n",
       "  <tbody>\n",
       "    <tr>\n",
       "      <th>1990-01-23</th>\n",
       "      <td>-0.50 to -1.00</td>\n",
       "      <td>17.00 to 17.50</td>\n",
       "    </tr>\n",
       "    <tr>\n",
       "      <th>1990-02-15</th>\n",
       "      <td>-0.5</td>\n",
       "      <td>16.50 to 17.00</td>\n",
       "    </tr>\n",
       "    <tr>\n",
       "      <th>1990-03-07</th>\n",
       "      <td>0</td>\n",
       "      <td>16.50 to 17.00</td>\n",
       "    </tr>\n",
       "    <tr>\n",
       "      <th>1990-04-04</th>\n",
       "      <td>-1.00 to -1.50</td>\n",
       "      <td>15.00 to 15.50</td>\n",
       "    </tr>\n",
       "    <tr>\n",
       "      <th>1990-05-02</th>\n",
       "      <td>0</td>\n",
       "      <td>15.00 to 15.50</td>\n",
       "    </tr>\n",
       "  </tbody>\n",
       "</table>\n",
       "</div>"
      ],
      "text/plain": [
       "                        Change Cash Rate Target\n",
       "Effective date                                 \n",
       "1990-01-23      -0.50 to -1.00   17.00 to 17.50\n",
       "1990-02-15                -0.5   16.50 to 17.00\n",
       "1990-03-07                   0   16.50 to 17.00\n",
       "1990-04-04      -1.00 to -1.50   15.00 to 15.50\n",
       "1990-05-02                   0   15.00 to 15.50"
      ]
     },
     "execution_count": 5,
     "metadata": {},
     "output_type": "execute_result"
    }
   ],
   "source": [
    "rba_returns.head()"
   ]
  },
  {
   "cell_type": "code",
   "execution_count": 6,
   "id": "aded3875-9cf2-4c52-b7c4-ccb570745d44",
   "metadata": {},
   "outputs": [
    {
     "data": {
      "text/html": [
       "<div>\n",
       "<style scoped>\n",
       "    .dataframe tbody tr th:only-of-type {\n",
       "        vertical-align: middle;\n",
       "    }\n",
       "\n",
       "    .dataframe tbody tr th {\n",
       "        vertical-align: top;\n",
       "    }\n",
       "\n",
       "    .dataframe thead th {\n",
       "        text-align: right;\n",
       "    }\n",
       "</style>\n",
       "<table border=\"1\" class=\"dataframe\">\n",
       "  <thead>\n",
       "    <tr style=\"text-align: right;\">\n",
       "      <th></th>\n",
       "      <th>Change</th>\n",
       "      <th>Cash Rate Target</th>\n",
       "    </tr>\n",
       "    <tr>\n",
       "      <th>Effective date</th>\n",
       "      <th></th>\n",
       "      <th></th>\n",
       "    </tr>\n",
       "  </thead>\n",
       "  <tbody>\n",
       "    <tr>\n",
       "      <th>2006-02-08</th>\n",
       "      <td>0</td>\n",
       "      <td>5.5</td>\n",
       "    </tr>\n",
       "    <tr>\n",
       "      <th>2006-03-08</th>\n",
       "      <td>0</td>\n",
       "      <td>5.5</td>\n",
       "    </tr>\n",
       "    <tr>\n",
       "      <th>2006-04-05</th>\n",
       "      <td>0</td>\n",
       "      <td>5.5</td>\n",
       "    </tr>\n",
       "    <tr>\n",
       "      <th>2006-05-03</th>\n",
       "      <td>0.25</td>\n",
       "      <td>5.75</td>\n",
       "    </tr>\n",
       "    <tr>\n",
       "      <th>2006-06-07</th>\n",
       "      <td>0</td>\n",
       "      <td>5.75</td>\n",
       "    </tr>\n",
       "  </tbody>\n",
       "</table>\n",
       "</div>"
      ],
      "text/plain": [
       "               Change Cash Rate Target\n",
       "Effective date                        \n",
       "2006-02-08          0              5.5\n",
       "2006-03-08          0              5.5\n",
       "2006-04-05          0              5.5\n",
       "2006-05-03       0.25             5.75\n",
       "2006-06-07          0             5.75"
      ]
     },
     "execution_count": 6,
     "metadata": {},
     "output_type": "execute_result"
    }
   ],
   "source": [
    "rba_sorted_clean = rba_returns.loc['2006-01-01':'2022-05-04']\n",
    "rba_sorted_clean.head()\n"
   ]
  },
  {
   "cell_type": "code",
   "execution_count": 7,
   "id": "c5f603e4-c6b3-48d5-add1-0c805d682c47",
   "metadata": {},
   "outputs": [],
   "source": [
    "rba_sorted_clean.to_csv('rba_sorted_clean.csv')"
   ]
  },
  {
   "cell_type": "code",
   "execution_count": 8,
   "id": "fb02a43d-ad2c-41ad-b033-79d4d613010b",
   "metadata": {},
   "outputs": [
    {
     "data": {
      "text/html": [
       "<div>\n",
       "<style scoped>\n",
       "    .dataframe tbody tr th:only-of-type {\n",
       "        vertical-align: middle;\n",
       "    }\n",
       "\n",
       "    .dataframe tbody tr th {\n",
       "        vertical-align: top;\n",
       "    }\n",
       "\n",
       "    .dataframe thead th {\n",
       "        text-align: right;\n",
       "    }\n",
       "</style>\n",
       "<table border=\"1\" class=\"dataframe\">\n",
       "  <thead>\n",
       "    <tr style=\"text-align: right;\">\n",
       "      <th></th>\n",
       "      <th>GDP per capita: Current prices ;</th>\n",
       "    </tr>\n",
       "    <tr>\n",
       "      <th>Date</th>\n",
       "      <th></th>\n",
       "    </tr>\n",
       "  </thead>\n",
       "  <tbody>\n",
       "    <tr>\n",
       "      <th>1973-09</th>\n",
       "      <td>1041</td>\n",
       "    </tr>\n",
       "    <tr>\n",
       "      <th>1973-12</th>\n",
       "      <td>1089</td>\n",
       "    </tr>\n",
       "    <tr>\n",
       "      <th>1974-03</th>\n",
       "      <td>1128</td>\n",
       "    </tr>\n",
       "    <tr>\n",
       "      <th>1974-06</th>\n",
       "      <td>1167</td>\n",
       "    </tr>\n",
       "    <tr>\n",
       "      <th>1974-09</th>\n",
       "      <td>1213</td>\n",
       "    </tr>\n",
       "  </tbody>\n",
       "</table>\n",
       "</div>"
      ],
      "text/plain": [
       "         GDP per capita: Current prices ;\n",
       "Date                                     \n",
       "1973-09                              1041\n",
       "1973-12                              1089\n",
       "1974-03                              1128\n",
       "1974-06                              1167\n",
       "1974-09                              1213"
      ]
     },
     "execution_count": 8,
     "metadata": {},
     "output_type": "execute_result"
    }
   ],
   "source": [
    "gdp_csv = Path(\"gdp_per_capita.csv\")\n",
    "gdp_per_capita = pd.read_csv(gdp_csv, index_col=\"Date\")\n",
    "# gdp_returns.describe()\n",
    "gdp_per_capita.sort_index(ascending = True, inplace = True)\n",
    "gdp_per_capita.head()"
   ]
  },
  {
   "cell_type": "code",
   "execution_count": 9,
   "id": "767f642a-8261-4a3c-b2d7-21a16d941c5c",
   "metadata": {},
   "outputs": [
    {
     "name": "stdout",
     "output_type": "stream",
     "text": [
      "GDP per capita: Current prices ;    0\n",
      "dtype: int64\n",
      "Empty DataFrame\n",
      "Columns: [GDP per capita: Current prices ;]\n",
      "Index: []\n"
     ]
    }
   ],
   "source": [
    "print(gdp_per_capita.isnull().sum())\n",
    "print(gdp_per_capita[gdp_per_capita.isnull().any(axis =1)])\n"
   ]
  },
  {
   "cell_type": "code",
   "execution_count": 10,
   "id": "16bd41cd-0479-43fa-852c-2172c159d3c0",
   "metadata": {},
   "outputs": [
    {
     "data": {
      "text/html": [
       "<div>\n",
       "<style scoped>\n",
       "    .dataframe tbody tr th:only-of-type {\n",
       "        vertical-align: middle;\n",
       "    }\n",
       "\n",
       "    .dataframe tbody tr th {\n",
       "        vertical-align: top;\n",
       "    }\n",
       "\n",
       "    .dataframe thead th {\n",
       "        text-align: right;\n",
       "    }\n",
       "</style>\n",
       "<table border=\"1\" class=\"dataframe\">\n",
       "  <thead>\n",
       "    <tr style=\"text-align: right;\">\n",
       "      <th></th>\n",
       "      <th>GDP per capita: Current prices ;</th>\n",
       "    </tr>\n",
       "    <tr>\n",
       "      <th>Date</th>\n",
       "      <th></th>\n",
       "    </tr>\n",
       "  </thead>\n",
       "  <tbody>\n",
       "    <tr>\n",
       "      <th>2006-03</th>\n",
       "      <td>12353</td>\n",
       "    </tr>\n",
       "    <tr>\n",
       "      <th>2006-06</th>\n",
       "      <td>12520</td>\n",
       "    </tr>\n",
       "    <tr>\n",
       "      <th>2006-09</th>\n",
       "      <td>12764</td>\n",
       "    </tr>\n",
       "    <tr>\n",
       "      <th>2006-12</th>\n",
       "      <td>13050</td>\n",
       "    </tr>\n",
       "    <tr>\n",
       "      <th>2007-03</th>\n",
       "      <td>13293</td>\n",
       "    </tr>\n",
       "  </tbody>\n",
       "</table>\n",
       "</div>"
      ],
      "text/plain": [
       "         GDP per capita: Current prices ;\n",
       "Date                                     \n",
       "2006-03                             12353\n",
       "2006-06                             12520\n",
       "2006-09                             12764\n",
       "2006-12                             13050\n",
       "2007-03                             13293"
      ]
     },
     "execution_count": 10,
     "metadata": {},
     "output_type": "execute_result"
    }
   ],
   "source": [
    "gdp_per_capita.dropna(inplace=True)\n",
    "gdp_per_capita.isnull().sum()\n",
    "gdp_sorted_clean = gdp_per_capita.loc['2006-01':'2022-05']\n",
    "\n",
    "gdp_sorted_clean.head()\n"
   ]
  },
  {
   "cell_type": "code",
   "execution_count": 11,
   "id": "f9cead1e-33b0-40c8-995e-d44f2b6fb1ce",
   "metadata": {},
   "outputs": [],
   "source": [
    "gdp_sorted_clean.to_csv('gdp_sorted_clean.csv')"
   ]
  },
  {
   "cell_type": "code",
   "execution_count": 12,
   "id": "b71869ca-cad0-440e-af45-e7332c0c7b41",
   "metadata": {},
   "outputs": [
    {
     "data": {
      "text/html": [
       "<div>\n",
       "<style scoped>\n",
       "    .dataframe tbody tr th:only-of-type {\n",
       "        vertical-align: middle;\n",
       "    }\n",
       "\n",
       "    .dataframe tbody tr th {\n",
       "        vertical-align: top;\n",
       "    }\n",
       "\n",
       "    .dataframe thead th {\n",
       "        text-align: right;\n",
       "    }\n",
       "</style>\n",
       "<table border=\"1\" class=\"dataframe\">\n",
       "  <thead>\n",
       "    <tr style=\"text-align: right;\">\n",
       "      <th></th>\n",
       "      <th>Unemployment Rate (%)</th>\n",
       "      <th>Annual Change</th>\n",
       "    </tr>\n",
       "    <tr>\n",
       "      <th>Year</th>\n",
       "      <th></th>\n",
       "      <th></th>\n",
       "    </tr>\n",
       "  </thead>\n",
       "  <tbody>\n",
       "    <tr>\n",
       "      <th>2006-01-01</th>\n",
       "      <td>4.78%</td>\n",
       "      <td>-0.25%</td>\n",
       "    </tr>\n",
       "    <tr>\n",
       "      <th>2007-01-01</th>\n",
       "      <td>4.38%</td>\n",
       "      <td>-0.40%</td>\n",
       "    </tr>\n",
       "    <tr>\n",
       "      <th>2008-01-01</th>\n",
       "      <td>4.23%</td>\n",
       "      <td>-0.15%</td>\n",
       "    </tr>\n",
       "    <tr>\n",
       "      <th>2009-01-01</th>\n",
       "      <td>5.56%</td>\n",
       "      <td>1.33%</td>\n",
       "    </tr>\n",
       "    <tr>\n",
       "      <th>2010-01-01</th>\n",
       "      <td>5.21%</td>\n",
       "      <td>-0.35%</td>\n",
       "    </tr>\n",
       "  </tbody>\n",
       "</table>\n",
       "</div>"
      ],
      "text/plain": [
       "           Unemployment Rate (%) Annual Change\n",
       "Year                                          \n",
       "2006-01-01                 4.78%        -0.25%\n",
       "2007-01-01                 4.38%        -0.40%\n",
       "2008-01-01                 4.23%        -0.15%\n",
       "2009-01-01                 5.56%         1.33%\n",
       "2010-01-01                 5.21%        -0.35%"
      ]
     },
     "execution_count": 12,
     "metadata": {},
     "output_type": "execute_result"
    }
   ],
   "source": [
    "unemployment_rate_csv = Path(\"Unemployment Rate.csv\")\n",
    "unemployment_rate = pd.read_csv(unemployment_rate_csv, index_col=\"Year\", parse_dates=True, infer_datetime_format=True)\n",
    "\n",
    "# unemplyoment_returns.describe()\n",
    "unemployment_rate.sort_index(ascending = True, inplace = True)\n",
    "unemployment_rate.head()"
   ]
  },
  {
   "cell_type": "code",
   "execution_count": 13,
   "id": "1a3475b5-8e66-4809-8245-3134105ce80c",
   "metadata": {},
   "outputs": [
    {
     "data": {
      "text/html": [
       "<div>\n",
       "<style scoped>\n",
       "    .dataframe tbody tr th:only-of-type {\n",
       "        vertical-align: middle;\n",
       "    }\n",
       "\n",
       "    .dataframe tbody tr th {\n",
       "        vertical-align: top;\n",
       "    }\n",
       "\n",
       "    .dataframe thead th {\n",
       "        text-align: right;\n",
       "    }\n",
       "</style>\n",
       "<table border=\"1\" class=\"dataframe\">\n",
       "  <thead>\n",
       "    <tr style=\"text-align: right;\">\n",
       "      <th></th>\n",
       "      <th>Unemployment Rate (%)</th>\n",
       "      <th>Annual Change</th>\n",
       "    </tr>\n",
       "    <tr>\n",
       "      <th>Year</th>\n",
       "      <th></th>\n",
       "      <th></th>\n",
       "    </tr>\n",
       "  </thead>\n",
       "  <tbody>\n",
       "    <tr>\n",
       "      <th>2006-01-01</th>\n",
       "      <td>4.78%</td>\n",
       "      <td>-0.25%</td>\n",
       "    </tr>\n",
       "    <tr>\n",
       "      <th>2007-01-01</th>\n",
       "      <td>4.38%</td>\n",
       "      <td>-0.40%</td>\n",
       "    </tr>\n",
       "    <tr>\n",
       "      <th>2008-01-01</th>\n",
       "      <td>4.23%</td>\n",
       "      <td>-0.15%</td>\n",
       "    </tr>\n",
       "    <tr>\n",
       "      <th>2009-01-01</th>\n",
       "      <td>5.56%</td>\n",
       "      <td>1.33%</td>\n",
       "    </tr>\n",
       "    <tr>\n",
       "      <th>2010-01-01</th>\n",
       "      <td>5.21%</td>\n",
       "      <td>-0.35%</td>\n",
       "    </tr>\n",
       "  </tbody>\n",
       "</table>\n",
       "</div>"
      ],
      "text/plain": [
       "           Unemployment Rate (%) Annual Change\n",
       "Year                                          \n",
       "2006-01-01                 4.78%        -0.25%\n",
       "2007-01-01                 4.38%        -0.40%\n",
       "2008-01-01                 4.23%        -0.15%\n",
       "2009-01-01                 5.56%         1.33%\n",
       "2010-01-01                 5.21%        -0.35%"
      ]
     },
     "execution_count": 13,
     "metadata": {},
     "output_type": "execute_result"
    }
   ],
   "source": [
    "unemployment_rate.dropna(inplace=True)\n",
    "unemployment_rate.isnull().sum()\n",
    "unemployment_rate_sorted_clean = unemployment_rate.loc['2006-01':'2022-05']\n",
    "unemployment_rate_sorted_clean.head()\n",
    "\n",
    "\n"
   ]
  },
  {
   "cell_type": "code",
   "execution_count": 14,
   "id": "d42003e9-6f8c-47f9-a65f-40da4856c8d0",
   "metadata": {},
   "outputs": [],
   "source": [
    "unemployment_rate_sorted_clean.to_csv('unemployment_rate_sortedclean.csv')"
   ]
  },
  {
   "cell_type": "code",
   "execution_count": 19,
   "id": "39a3edde-f131-4cf1-8c57-cdbbb0422e98",
   "metadata": {},
   "outputs": [
    {
     "data": {
      "text/html": [
       "<div>\n",
       "<style scoped>\n",
       "    .dataframe tbody tr th:only-of-type {\n",
       "        vertical-align: middle;\n",
       "    }\n",
       "\n",
       "    .dataframe tbody tr th {\n",
       "        vertical-align: top;\n",
       "    }\n",
       "\n",
       "    .dataframe thead th {\n",
       "        text-align: right;\n",
       "    }\n",
       "</style>\n",
       "<table border=\"1\" class=\"dataframe\">\n",
       "  <thead>\n",
       "    <tr style=\"text-align: right;\">\n",
       "      <th></th>\n",
       "      <th>inflation_rate</th>\n",
       "    </tr>\n",
       "    <tr>\n",
       "      <th>Date</th>\n",
       "      <th></th>\n",
       "    </tr>\n",
       "  </thead>\n",
       "  <tbody>\n",
       "    <tr>\n",
       "      <th>1922-06</th>\n",
       "      <td>2.8</td>\n",
       "    </tr>\n",
       "    <tr>\n",
       "      <th>1922-09</th>\n",
       "      <td>2.8</td>\n",
       "    </tr>\n",
       "    <tr>\n",
       "      <th>1922-12</th>\n",
       "      <td>2.7</td>\n",
       "    </tr>\n",
       "    <tr>\n",
       "      <th>1923-03</th>\n",
       "      <td>2.7</td>\n",
       "    </tr>\n",
       "    <tr>\n",
       "      <th>1923-06</th>\n",
       "      <td>2.8</td>\n",
       "    </tr>\n",
       "  </tbody>\n",
       "</table>\n",
       "</div>"
      ],
      "text/plain": [
       "         inflation_rate\n",
       "Date                   \n",
       "1922-06             2.8\n",
       "1922-09             2.8\n",
       "1922-12             2.7\n",
       "1923-03             2.7\n",
       "1923-06             2.8"
      ]
     },
     "execution_count": 19,
     "metadata": {},
     "output_type": "execute_result"
    }
   ],
   "source": [
    "cpi_rate_csv = Path(\"CPI.csv\")\n",
    "cpi_rate = pd.read_csv(cpi_rate_csv, index_col=\"Date\")\n",
    "# cpi_rate.describe()\n",
    "cpi_rate.sort_index(ascending = True, inplace = True)\n",
    "cpi_rate.head()"
   ]
  },
  {
   "cell_type": "code",
   "execution_count": 20,
   "id": "3d3d6052-cf96-4321-b466-c0c991c6dfe3",
   "metadata": {},
   "outputs": [
    {
     "data": {
      "text/plain": [
       "inflation_rate    0\n",
       "dtype: int64"
      ]
     },
     "execution_count": 20,
     "metadata": {},
     "output_type": "execute_result"
    }
   ],
   "source": [
    "cpi_rate.dropna(inplace=True)\n",
    "cpi_rate.isnull().sum()"
   ]
  },
  {
   "cell_type": "code",
   "execution_count": 21,
   "id": "85c84614-746d-43ff-b744-43af8ae1772c",
   "metadata": {},
   "outputs": [
    {
     "data": {
      "text/html": [
       "<div>\n",
       "<style scoped>\n",
       "    .dataframe tbody tr th:only-of-type {\n",
       "        vertical-align: middle;\n",
       "    }\n",
       "\n",
       "    .dataframe tbody tr th {\n",
       "        vertical-align: top;\n",
       "    }\n",
       "\n",
       "    .dataframe thead th {\n",
       "        text-align: right;\n",
       "    }\n",
       "</style>\n",
       "<table border=\"1\" class=\"dataframe\">\n",
       "  <thead>\n",
       "    <tr style=\"text-align: right;\">\n",
       "      <th></th>\n",
       "      <th>inflation_rate</th>\n",
       "    </tr>\n",
       "    <tr>\n",
       "      <th>Date</th>\n",
       "      <th></th>\n",
       "    </tr>\n",
       "  </thead>\n",
       "  <tbody>\n",
       "    <tr>\n",
       "      <th>2006-03</th>\n",
       "      <td>84.5</td>\n",
       "    </tr>\n",
       "    <tr>\n",
       "      <th>2006-06</th>\n",
       "      <td>85.9</td>\n",
       "    </tr>\n",
       "    <tr>\n",
       "      <th>2006-09</th>\n",
       "      <td>86.7</td>\n",
       "    </tr>\n",
       "    <tr>\n",
       "      <th>2006-12</th>\n",
       "      <td>86.6</td>\n",
       "    </tr>\n",
       "    <tr>\n",
       "      <th>2007-03</th>\n",
       "      <td>86.6</td>\n",
       "    </tr>\n",
       "  </tbody>\n",
       "</table>\n",
       "</div>"
      ],
      "text/plain": [
       "         inflation_rate\n",
       "Date                   \n",
       "2006-03            84.5\n",
       "2006-06            85.9\n",
       "2006-09            86.7\n",
       "2006-12            86.6\n",
       "2007-03            86.6"
      ]
     },
     "execution_count": 21,
     "metadata": {},
     "output_type": "execute_result"
    }
   ],
   "source": [
    "cpi_rate_sorted_clean = cpi_rate.loc['2006-01':'2022-05']\n",
    "cpi_rate_sorted_clean.head()\n",
    "\n"
   ]
  },
  {
   "cell_type": "code",
   "execution_count": 22,
   "id": "5dfa8e82-c97b-416d-84fa-3b43a64e570a",
   "metadata": {},
   "outputs": [],
   "source": [
    "cpi_rate_sorted_clean.to_csv('cpi_rate_sorted_clean.csv')"
   ]
  },
  {
   "cell_type": "code",
   "execution_count": null,
   "id": "c933e432-7cec-45ee-a96e-7cc6786bea01",
   "metadata": {},
   "outputs": [],
   "source": []
  }
 ],
 "metadata": {
  "kernelspec": {
   "display_name": "Python [conda env:pyvizenv]",
   "language": "python",
   "name": "conda-env-pyvizenv-py"
  },
  "language_info": {
   "codemirror_mode": {
    "name": "ipython",
    "version": 3
   },
   "file_extension": ".py",
   "mimetype": "text/x-python",
   "name": "python",
   "nbconvert_exporter": "python",
   "pygments_lexer": "ipython3",
   "version": "3.7.11"
  }
 },
 "nbformat": 4,
 "nbformat_minor": 5
}
