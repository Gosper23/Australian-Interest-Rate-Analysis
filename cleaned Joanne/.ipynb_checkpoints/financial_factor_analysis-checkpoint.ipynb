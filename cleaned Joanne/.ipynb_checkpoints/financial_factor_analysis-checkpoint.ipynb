{
 "cells": [
  {
   "cell_type": "code",
   "execution_count": null,
   "id": "66fbafc7-9b83-4eb1-8f05-6a4584eef91a",
   "metadata": {},
   "outputs": [],
   "source": [
    "# importing Libary to Python Notebook\n",
    "import pandas as pd\n",
    "import datetime as dt\n",
    "from pathlib import Path\n",
    "import matplotlib.pyplot as plt\n",
    "import panel as pn\n",
    "pn.extension('plotly')\n",
    "import plotly.express as px\n",
    "import hvplot.pandas\n",
    "from bokeh.sampledata.iris import flowers\n",
    "%matplotlib inline"
   ]
  },
  {
   "cell_type": "code",
   "execution_count": null,
   "id": "365523b2-1c97-40a5-a0ee-ef0dffaa73de",
   "metadata": {},
   "outputs": [],
   "source": [
    "# Defining Path for rba csv quarter and importing CSV, reading data frame using pandas\n",
    "rba_csv = Path(\"rba quarter.csv\")\n",
    "rba_sorted_clean = pd.read_csv(rba_csv, index_col=\"Date\")\n",
    "# rba_sorted_clean.sort_index()in ascending form\n",
    "rba_sorted_clean.sort_index(ascending = True, inplace = True)\n",
    "rba_sorted_clean.head()"
   ]
  },
  {
   "cell_type": "code",
   "execution_count": null,
   "id": "a8fd4e18-6ad5-4433-b6fe-98068d69f0a5",
   "metadata": {},
   "outputs": [],
   "source": [
    "# Check for all nulls from rba data frame\n",
    "print(rba_sorted_clean.isnull().sum())\n",
    "print(rba_sorted_clean[rba_sorted_clean.isnull().any(axis = 1)])"
   ]
  },
  {
   "cell_type": "code",
   "execution_count": null,
   "id": "be1bb0f2-2291-4f5b-ad72-f8f9ab112b03",
   "metadata": {},
   "outputs": [],
   "source": [
    "# removed all nulls from rba data frame\n",
    "rba_sorted_clean.dropna(inplace=True)\n",
    "rba_sorted_clean.isnull().sum()"
   ]
  },
  {
   "cell_type": "code",
   "execution_count": null,
   "id": "06f2895c-9d6c-4a6d-af2e-6b58615d51d5",
   "metadata": {},
   "outputs": [],
   "source": [
    "# Print rba data frame to check\n",
    "rba_sorted_clean.head()"
   ]
  },
  {
   "cell_type": "code",
   "execution_count": null,
   "id": "dca7cccd-daca-4a5d-8403-b5e3267f5b17",
   "metadata": {},
   "outputs": [],
   "source": [
    "# Renaming colums from \"Cash Rate Target\" to \"rba\"\n",
    "rba_sorted_clean.rename(columns = {\"Cash Rate Target':'rba\"}, inplace = True)\n",
    "rba_sorted_clean.head()"
   ]
  },
  {
   "cell_type": "code",
   "execution_count": null,
   "id": "56929270-5edf-4882-aacf-57d92a012c4d",
   "metadata": {},
   "outputs": [],
   "source": [
    "# Exporting clean rba data frame to new CSV file\n",
    "rba_sorted_clean.to_csv('rba_sorted_clean.csv')"
   ]
  },
  {
   "cell_type": "code",
   "execution_count": null,
   "id": "fb02a43d-ad2c-41ad-b033-79d4d613010b",
   "metadata": {},
   "outputs": [],
   "source": [
    "# Defining Path for gdp_csv and importing CSV, reading data frame using pandas library\n",
    "gdp_csv = Path(\"gdp_per_capita.csv\")\n",
    "gdp_per_capita = pd.read_csv(gdp_csv, index_col=\"Date\")\n",
    "# gdp_per_capita..sort_index()in ascending form\n",
    "gdp_per_capita.sort_index(ascending = True, inplace = True)\n",
    "# Renaming colums from 'GDP per capita':'gdp_per_capita'\n",
    "gdp_per_capita.rename(columns = {'GDP per capita':'gdp_per_capita'}, inplace = True)\n",
    "gdp_per_capita.head()"
   ]
  },
  {
   "cell_type": "code",
   "execution_count": null,
   "id": "767f642a-8261-4a3c-b2d7-21a16d941c5c",
   "metadata": {},
   "outputs": [],
   "source": [
    "# Check for all nulls from  gdp_per_capita data frame\n",
    "print(gdp_per_capita.isnull().sum())\n",
    "print(gdp_per_capita[gdp_per_capita.isnull().any(axis =1)])\n"
   ]
  },
  {
   "cell_type": "code",
   "execution_count": null,
   "id": "8d2665a6-f2bc-4917-977a-2ec98a70a8bc",
   "metadata": {},
   "outputs": [],
   "source": [
    "# Check for all nulls from gdp_per_capita data frame\n",
    "gdp_per_capita.isnull().sum()"
   ]
  },
  {
   "cell_type": "code",
   "execution_count": null,
   "id": "234ba15b-2e59-40a3-b004-0fb616caca41",
   "metadata": {},
   "outputs": [],
   "source": [
    "# removed all nulls from gdp_per_capita data frame\n",
    "gdp_per_capita.dropna(inplace=True)\n",
    "gdp_per_capita.isnull().sum()"
   ]
  },
  {
   "cell_type": "code",
   "execution_count": null,
   "id": "2631fd90-cc40-41d2-a7ce-c57c2963b5b8",
   "metadata": {},
   "outputs": [],
   "source": [
    "# using loc function to isolate get data from 2006-01 : 2022-05\n",
    "gdp_sorted_clean = gdp_per_capita.loc['2006-01':'2022-05']\n",
    "#print gdp data frame to check data output\n",
    "gdp_sorted_clean.head()"
   ]
  },
  {
   "cell_type": "code",
   "execution_count": null,
   "id": "f9cead1e-33b0-40c8-995e-d44f2b6fb1ce",
   "metadata": {},
   "outputs": [],
   "source": [
    "# Export cleaned data frame to new CSV 'gdp_sorted_clean.csv'\n",
    "gdp_sorted_clean.to_csv('gdp_sorted_clean.csv')\n"
   ]
  },
  {
   "cell_type": "code",
   "execution_count": null,
   "id": "b71869ca-cad0-440e-af45-e7332c0c7b41",
   "metadata": {},
   "outputs": [],
   "source": [
    "# Defining Path for unemployment_rate_csv and importing CSV, reading data frame using pandas library\n",
    "unemployment_rate_csv = Path(\"Unemployment rate.csv\")\n",
    "unemployment_rate = pd.read_csv(unemployment_rate_csv, index_col=\"Date\")\n",
    "\n",
    "# unemplyoment_rate.sort_index()in ascending form\n",
    "unemployment_rate.sort_index(ascending = True, inplace = True)\n",
    "# Renaming colums from 'unemployment rate':'unemployment_rate'\n",
    "unemployment_rate.rename(columns = {'unemployment rate':'unemployment_rate'}, inplace = True)\n",
    "unemployment_rate.head()"
   ]
  },
  {
   "cell_type": "code",
   "execution_count": null,
   "id": "5ae7426b-1f09-404e-a45f-dfa069de30d9",
   "metadata": {},
   "outputs": [],
   "source": [
    "# Check for all nulls from unemployment_rate data frame\n",
    "unemployment_rate.isnull().sum()"
   ]
  },
  {
   "cell_type": "code",
   "execution_count": null,
   "id": "ab54f357-793c-4a07-90ab-1753d4fb7291",
   "metadata": {},
   "outputs": [],
   "source": [
    "# removed all nulls from unemployment_rate data frame\n",
    "unemployment_rate.dropna(inplace=True)\n",
    "unemployment_rate.isnull().sum()"
   ]
  },
  {
   "cell_type": "code",
   "execution_count": null,
   "id": "2339d852-d1ce-4bde-b578-8ca332b15ba2",
   "metadata": {},
   "outputs": [],
   "source": [
    "# using loc function to isolate data from 2006-01 : 2022-05\n",
    "unemployment_rate_sorted_clean = unemployment_rate.loc['2006-01':'2022-05']\n",
    "unemployment_rate_sorted_clean.head()"
   ]
  },
  {
   "cell_type": "code",
   "execution_count": null,
   "id": "14b5f187-2c72-4ba8-9b0f-a7c934e6bea9",
   "metadata": {},
   "outputs": [],
   "source": [
    "# Export cleaned data frame to new CSV 'unemployment_rate_sorted_clean.csv'\n",
    "unemployment_rate_sorted_clean.to_csv('unemployment_rate_sorted_clean.csv')"
   ]
  },
  {
   "cell_type": "code",
   "execution_count": null,
   "id": "dd85eba2-eea3-4288-80e0-1d6c9777b889",
   "metadata": {},
   "outputs": [],
   "source": [
    "# Print unemployment_rate_sorted_clean\n",
    "unemployment_rate_sorted_clean.head()"
   ]
  },
  {
   "cell_type": "code",
   "execution_count": null,
   "id": "39a3edde-f131-4cf1-8c57-cdbbb0422e98",
   "metadata": {},
   "outputs": [],
   "source": [
    "# Defining Path for cpi_rate_csv and importing CSV, reading data frame using pandas library\n",
    "cpi_rate_csv = Path(\"CPI.csv\")\n",
    "cpi_rate = pd.read_csv(cpi_rate_csv, index_col=\"Date\")\n",
    "# cpi_rate.sort_index()in ascending form\n",
    "cpi_rate.sort_index(ascending = True, inplace = True)\n",
    "cpi_rate.head()"
   ]
  },
  {
   "cell_type": "code",
   "execution_count": null,
   "id": "916d845e-bd38-4ed7-8847-6ac327d8ac54",
   "metadata": {},
   "outputs": [],
   "source": [
    "# Check for all nulls from cpi_rate data frame\n",
    "cpi_rate.isnull().sum()"
   ]
  },
  {
   "cell_type": "code",
   "execution_count": null,
   "id": "38149d6e-84b6-44d4-9ffc-be66fa574cb0",
   "metadata": {},
   "outputs": [],
   "source": [
    "# removed all nulls cpi_rate data frame\n",
    "cpi_rate.dropna(inplace=True)\n",
    "cpi_rate.isnull().sum()"
   ]
  },
  {
   "cell_type": "code",
   "execution_count": null,
   "id": "85c84614-746d-43ff-b744-43af8ae1772c",
   "metadata": {},
   "outputs": [],
   "source": [
    "# using loc function to isolate get data from 2006-01 : 2022-05\n",
    "cpi_rate_sorted_clean = cpi_rate.loc['2006-01':'2022-05']\n",
    "cpi_rate_sorted_clean.head()\n",
    "\n"
   ]
  },
  {
   "cell_type": "code",
   "execution_count": null,
   "id": "5dfa8e82-c97b-416d-84fa-3b43a64e570a",
   "metadata": {},
   "outputs": [],
   "source": [
    "# Export cleaned data frame to new CSV 'cpi_rate_sorted_clean.csv'\n",
    "cpi_rate_sorted_clean.to_csv('cpi_rate_sorted_clean.csv')"
   ]
  },
  {
   "cell_type": "code",
   "execution_count": null,
   "id": "087505f4-6a5b-487b-bae5-e84c3a528720",
   "metadata": {},
   "outputs": [],
   "source": [
    "# Concating data frame to make quarterly comparison analysis of gdp,cpi and unemplyoment rate against rba \n",
    "\n",
    "quarterly_comparison = pd.concat([gdp_sorted_clean, unemployment_rate_sorted_clean, cpi_rate_sorted_clean, rba_sorted_clean],axis=\"columns\", join=\"inner\")\n",
    "# drop % value and convert list to \"float\"\n",
    "quarterly_comparison[\"unemployment_rate\"] = quarterly_comparison[\"unemployment_rate\"].str.replace(\"%\", \"\", regex=True).astype(\"float\")\n",
    "# print quarterly_comparison data frame\n",
    "quarterly_comparison.head()"
   ]
  },
  {
   "cell_type": "code",
   "execution_count": null,
   "id": "fd1764ac-d81c-47b9-ae94-a32e257b0b30",
   "metadata": {},
   "outputs": [],
   "source": [
    "# calculating percetance change using pandas function .pct_change and drop null value\n",
    "concat_pct = quarterly_comparison.pct_change().dropna()\n",
    "# reset data frame index and print to check data frame \n",
    "concat_pct.reset_index().head()"
   ]
  },
  {
   "cell_type": "code",
   "execution_count": null,
   "id": "b3780426-6824-4e21-97e2-519f3e1d1c2d",
   "metadata": {},
   "outputs": [],
   "source": [
    "# print to check data frame \n",
    "concat_pct.tail()"
   ]
  },
  {
   "cell_type": "code",
   "execution_count": null,
   "id": "fa8365e7-d147-43d4-b3b5-eacf8a5ff89f",
   "metadata": {},
   "outputs": [],
   "source": [
    "# Plot to line graph to analyse trend\n",
    "concat_pct.hvplot(x=\"Date\", y=[\"gdp_per_capita\",\"unemployment_rate\", \"inflation_rate\", \"rba\"], width=1000, height=600, rot=90\n",
    "                   )"
   ]
  },
  {
   "cell_type": "code",
   "execution_count": null,
   "id": "9df4c42a-d506-44d5-951e-4a6cca982828",
   "metadata": {},
   "outputs": [],
   "source": [
    "#  Plot correlatrion matrix to find the correlation of trend\n",
    "correlation_data = concat_pct.corr()\n",
    "correlation_data.hvplot.heatmap()"
   ]
  },
  {
   "cell_type": "code",
   "execution_count": null,
   "id": "930dfa5b-49f1-42d1-b095-f1585f17a606",
   "metadata": {},
   "outputs": [],
   "source": []
  }
 ],
 "metadata": {
  "kernelspec": {
   "display_name": "Python [conda env:pyvizenv]",
   "language": "python",
   "name": "conda-env-pyvizenv-py"
  },
  "language_info": {
   "codemirror_mode": {
    "name": "ipython",
    "version": 3
   },
   "file_extension": ".py",
   "mimetype": "text/x-python",
   "name": "python",
   "nbconvert_exporter": "python",
   "pygments_lexer": "ipython3",
   "version": "3.7.11"
  }
 },
 "nbformat": 4,
 "nbformat_minor": 5
}
