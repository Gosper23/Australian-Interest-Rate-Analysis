{
 "cells": [
  {
   "cell_type": "code",
   "execution_count": 27,
   "id": "66fbafc7-9b83-4eb1-8f05-6a4584eef91a",
   "metadata": {},
   "outputs": [],
   "source": [
    "# importing Libary to Python Notebook\n",
    "import pandas as pd\n",
    "import datetime as dt\n",
    "from pathlib import Path\n",
    "import panel as pn\n",
    "pn.extension('plotly')\n",
    "import plotly.express as px\n",
    "import hvplot.pandas\n",
    "from bokeh.sampledata.iris import flowers\n",
    "%matplotlib inline"
   ]
  },
  {
   "cell_type": "code",
   "execution_count": 2,
   "id": "365523b2-1c97-40a5-a0ee-ef0dffaa73de",
   "metadata": {},
   "outputs": [
    {
     "data": {
      "text/html": [
       "<div>\n",
       "<style scoped>\n",
       "    .dataframe tbody tr th:only-of-type {\n",
       "        vertical-align: middle;\n",
       "    }\n",
       "\n",
       "    .dataframe tbody tr th {\n",
       "        vertical-align: top;\n",
       "    }\n",
       "\n",
       "    .dataframe thead th {\n",
       "        text-align: right;\n",
       "    }\n",
       "</style>\n",
       "<table border=\"1\" class=\"dataframe\">\n",
       "  <thead>\n",
       "    <tr style=\"text-align: right;\">\n",
       "      <th></th>\n",
       "      <th>Cash Rate Target</th>\n",
       "    </tr>\n",
       "    <tr>\n",
       "      <th>Date</th>\n",
       "      <th></th>\n",
       "    </tr>\n",
       "  </thead>\n",
       "  <tbody>\n",
       "    <tr>\n",
       "      <th>2006-03</th>\n",
       "      <td>5.50</td>\n",
       "    </tr>\n",
       "    <tr>\n",
       "      <th>2006-06</th>\n",
       "      <td>5.75</td>\n",
       "    </tr>\n",
       "    <tr>\n",
       "      <th>2006-09</th>\n",
       "      <td>6.00</td>\n",
       "    </tr>\n",
       "    <tr>\n",
       "      <th>2006-12</th>\n",
       "      <td>6.25</td>\n",
       "    </tr>\n",
       "    <tr>\n",
       "      <th>2007-03</th>\n",
       "      <td>6.25</td>\n",
       "    </tr>\n",
       "  </tbody>\n",
       "</table>\n",
       "</div>"
      ],
      "text/plain": [
       "         Cash Rate Target\n",
       "Date                     \n",
       "2006-03              5.50\n",
       "2006-06              5.75\n",
       "2006-09              6.00\n",
       "2006-12              6.25\n",
       "2007-03              6.25"
      ]
     },
     "execution_count": 2,
     "metadata": {},
     "output_type": "execute_result"
    }
   ],
   "source": [
    "# Defining Path for rba csv quarter and importing CSV, reading data frame using pandas\n",
    "rba_csv = Path(\"rba quarter.csv\")\n",
    "rba_sorted_clean = pd.read_csv(rba_csv, index_col=\"Date\")\n",
    "# rba_sorted_clean.sort_index()in ascending form\n",
    "rba_sorted_clean.sort_index(ascending = True, inplace = True)\n",
    "rba_sorted_clean.head()"
   ]
  },
  {
   "cell_type": "code",
   "execution_count": 3,
   "id": "a8fd4e18-6ad5-4433-b6fe-98068d69f0a5",
   "metadata": {},
   "outputs": [
    {
     "name": "stdout",
     "output_type": "stream",
     "text": [
      "Cash Rate Target    0\n",
      "dtype: int64\n",
      "Empty DataFrame\n",
      "Columns: [Cash Rate Target]\n",
      "Index: []\n"
     ]
    }
   ],
   "source": [
    "# Check for all nulls from rba data frame\n",
    "print(rba_sorted_clean.isnull().sum())\n",
    "print(rba_sorted_clean[rba_sorted_clean.isnull().any(axis = 1)])"
   ]
  },
  {
   "cell_type": "code",
   "execution_count": 4,
   "id": "be1bb0f2-2291-4f5b-ad72-f8f9ab112b03",
   "metadata": {},
   "outputs": [
    {
     "data": {
      "text/plain": [
       "Cash Rate Target    0\n",
       "dtype: int64"
      ]
     },
     "execution_count": 4,
     "metadata": {},
     "output_type": "execute_result"
    }
   ],
   "source": [
    "# removed all nulls from rba data frame\n",
    "rba_sorted_clean.dropna(inplace=True)\n",
    "rba_sorted_clean.isnull().sum()"
   ]
  },
  {
   "cell_type": "code",
   "execution_count": 5,
   "id": "06f2895c-9d6c-4a6d-af2e-6b58615d51d5",
   "metadata": {},
   "outputs": [
    {
     "data": {
      "text/html": [
       "<div>\n",
       "<style scoped>\n",
       "    .dataframe tbody tr th:only-of-type {\n",
       "        vertical-align: middle;\n",
       "    }\n",
       "\n",
       "    .dataframe tbody tr th {\n",
       "        vertical-align: top;\n",
       "    }\n",
       "\n",
       "    .dataframe thead th {\n",
       "        text-align: right;\n",
       "    }\n",
       "</style>\n",
       "<table border=\"1\" class=\"dataframe\">\n",
       "  <thead>\n",
       "    <tr style=\"text-align: right;\">\n",
       "      <th></th>\n",
       "      <th>Cash Rate Target</th>\n",
       "    </tr>\n",
       "    <tr>\n",
       "      <th>Date</th>\n",
       "      <th></th>\n",
       "    </tr>\n",
       "  </thead>\n",
       "  <tbody>\n",
       "    <tr>\n",
       "      <th>2006-03</th>\n",
       "      <td>5.50</td>\n",
       "    </tr>\n",
       "    <tr>\n",
       "      <th>2006-06</th>\n",
       "      <td>5.75</td>\n",
       "    </tr>\n",
       "    <tr>\n",
       "      <th>2006-09</th>\n",
       "      <td>6.00</td>\n",
       "    </tr>\n",
       "    <tr>\n",
       "      <th>2006-12</th>\n",
       "      <td>6.25</td>\n",
       "    </tr>\n",
       "    <tr>\n",
       "      <th>2007-03</th>\n",
       "      <td>6.25</td>\n",
       "    </tr>\n",
       "  </tbody>\n",
       "</table>\n",
       "</div>"
      ],
      "text/plain": [
       "         Cash Rate Target\n",
       "Date                     \n",
       "2006-03              5.50\n",
       "2006-06              5.75\n",
       "2006-09              6.00\n",
       "2006-12              6.25\n",
       "2007-03              6.25"
      ]
     },
     "execution_count": 5,
     "metadata": {},
     "output_type": "execute_result"
    }
   ],
   "source": [
    "# Print rba data frame to check\n",
    "rba_sorted_clean.head()"
   ]
  },
  {
   "cell_type": "code",
   "execution_count": 8,
   "id": "dca7cccd-daca-4a5d-8403-b5e3267f5b17",
   "metadata": {},
   "outputs": [
    {
     "data": {
      "text/html": [
       "<div>\n",
       "<style scoped>\n",
       "    .dataframe tbody tr th:only-of-type {\n",
       "        vertical-align: middle;\n",
       "    }\n",
       "\n",
       "    .dataframe tbody tr th {\n",
       "        vertical-align: top;\n",
       "    }\n",
       "\n",
       "    .dataframe thead th {\n",
       "        text-align: right;\n",
       "    }\n",
       "</style>\n",
       "<table border=\"1\" class=\"dataframe\">\n",
       "  <thead>\n",
       "    <tr style=\"text-align: right;\">\n",
       "      <th></th>\n",
       "      <th>rba</th>\n",
       "    </tr>\n",
       "    <tr>\n",
       "      <th>Date</th>\n",
       "      <th></th>\n",
       "    </tr>\n",
       "  </thead>\n",
       "  <tbody>\n",
       "    <tr>\n",
       "      <th>2006-03</th>\n",
       "      <td>5.50</td>\n",
       "    </tr>\n",
       "    <tr>\n",
       "      <th>2006-06</th>\n",
       "      <td>5.75</td>\n",
       "    </tr>\n",
       "    <tr>\n",
       "      <th>2006-09</th>\n",
       "      <td>6.00</td>\n",
       "    </tr>\n",
       "    <tr>\n",
       "      <th>2006-12</th>\n",
       "      <td>6.25</td>\n",
       "    </tr>\n",
       "    <tr>\n",
       "      <th>2007-03</th>\n",
       "      <td>6.25</td>\n",
       "    </tr>\n",
       "  </tbody>\n",
       "</table>\n",
       "</div>"
      ],
      "text/plain": [
       "          rba\n",
       "Date         \n",
       "2006-03  5.50\n",
       "2006-06  5.75\n",
       "2006-09  6.00\n",
       "2006-12  6.25\n",
       "2007-03  6.25"
      ]
     },
     "execution_count": 8,
     "metadata": {},
     "output_type": "execute_result"
    }
   ],
   "source": [
    "\n",
    "# Renaming colums from \"Cash Rate Target\" to \"rba\"\n",
    "rba_sorted_clean.rename(columns = {\"Cash Rate Target\":\"rba\"}, inplace = True)\n",
    "# print data rba_sorted_clean \n",
    "rba_sorted_clean.head()"
   ]
  },
  {
   "cell_type": "code",
   "execution_count": 9,
   "id": "56929270-5edf-4882-aacf-57d92a012c4d",
   "metadata": {},
   "outputs": [],
   "source": [
    "# Exporting clean rba data frame to new CSV file\n",
    "rba_sorted_clean.to_csv('rba_sorted_clean.csv')"
   ]
  },
  {
   "cell_type": "code",
   "execution_count": 10,
   "id": "fb02a43d-ad2c-41ad-b033-79d4d613010b",
   "metadata": {},
   "outputs": [
    {
     "data": {
      "text/html": [
       "<div>\n",
       "<style scoped>\n",
       "    .dataframe tbody tr th:only-of-type {\n",
       "        vertical-align: middle;\n",
       "    }\n",
       "\n",
       "    .dataframe tbody tr th {\n",
       "        vertical-align: top;\n",
       "    }\n",
       "\n",
       "    .dataframe thead th {\n",
       "        text-align: right;\n",
       "    }\n",
       "</style>\n",
       "<table border=\"1\" class=\"dataframe\">\n",
       "  <thead>\n",
       "    <tr style=\"text-align: right;\">\n",
       "      <th></th>\n",
       "      <th>gdp_per_capita</th>\n",
       "    </tr>\n",
       "    <tr>\n",
       "      <th>Date</th>\n",
       "      <th></th>\n",
       "    </tr>\n",
       "  </thead>\n",
       "  <tbody>\n",
       "    <tr>\n",
       "      <th>1973-09</th>\n",
       "      <td>1041</td>\n",
       "    </tr>\n",
       "    <tr>\n",
       "      <th>1973-12</th>\n",
       "      <td>1089</td>\n",
       "    </tr>\n",
       "    <tr>\n",
       "      <th>1974-03</th>\n",
       "      <td>1128</td>\n",
       "    </tr>\n",
       "    <tr>\n",
       "      <th>1974-06</th>\n",
       "      <td>1167</td>\n",
       "    </tr>\n",
       "    <tr>\n",
       "      <th>1974-09</th>\n",
       "      <td>1213</td>\n",
       "    </tr>\n",
       "  </tbody>\n",
       "</table>\n",
       "</div>"
      ],
      "text/plain": [
       "         gdp_per_capita\n",
       "Date                   \n",
       "1973-09            1041\n",
       "1973-12            1089\n",
       "1974-03            1128\n",
       "1974-06            1167\n",
       "1974-09            1213"
      ]
     },
     "execution_count": 10,
     "metadata": {},
     "output_type": "execute_result"
    }
   ],
   "source": [
    "# Defining Path for gdp_csv and importing CSV, reading data frame using pandas library\n",
    "gdp_csv = Path(\"gdp_per_capita.csv\")\n",
    "gdp_per_capita = pd.read_csv(gdp_csv, index_col=\"Date\")\n",
    "# gdp_per_capita.sort_index()in ascending form\n",
    "gdp_per_capita.sort_index(ascending = True, inplace = True)\n",
    "# Renaming colums from 'GDP per capita':'gdp_per_capita'\n",
    "gdp_per_capita.rename(columns = {'GDP per capita':'gdp_per_capita'}, inplace = True)\n",
    "gdp_per_capita.head()"
   ]
  },
  {
   "cell_type": "code",
   "execution_count": 11,
   "id": "767f642a-8261-4a3c-b2d7-21a16d941c5c",
   "metadata": {},
   "outputs": [
    {
     "name": "stdout",
     "output_type": "stream",
     "text": [
      "gdp_per_capita    0\n",
      "dtype: int64\n",
      "Empty DataFrame\n",
      "Columns: [gdp_per_capita]\n",
      "Index: []\n"
     ]
    }
   ],
   "source": [
    "# Check for all nulls from  gdp_per_capita data frame\n",
    "print(gdp_per_capita.isnull().sum())\n",
    "print(gdp_per_capita[gdp_per_capita.isnull().any(axis =1)])\n"
   ]
  },
  {
   "cell_type": "code",
   "execution_count": 12,
   "id": "8d2665a6-f2bc-4917-977a-2ec98a70a8bc",
   "metadata": {},
   "outputs": [
    {
     "data": {
      "text/plain": [
       "gdp_per_capita    0\n",
       "dtype: int64"
      ]
     },
     "execution_count": 12,
     "metadata": {},
     "output_type": "execute_result"
    }
   ],
   "source": [
    "# Check for all nulls from gdp_per_capita data frame\n",
    "gdp_per_capita.isnull().sum()"
   ]
  },
  {
   "cell_type": "code",
   "execution_count": 13,
   "id": "234ba15b-2e59-40a3-b004-0fb616caca41",
   "metadata": {},
   "outputs": [
    {
     "data": {
      "text/plain": [
       "gdp_per_capita    0\n",
       "dtype: int64"
      ]
     },
     "execution_count": 13,
     "metadata": {},
     "output_type": "execute_result"
    }
   ],
   "source": [
    "# removed all nulls from gdp_per_capita data frame\n",
    "gdp_per_capita.dropna(inplace=True)\n",
    "gdp_per_capita.isnull().sum()"
   ]
  },
  {
   "cell_type": "code",
   "execution_count": 14,
   "id": "2631fd90-cc40-41d2-a7ce-c57c2963b5b8",
   "metadata": {},
   "outputs": [
    {
     "data": {
      "text/html": [
       "<div>\n",
       "<style scoped>\n",
       "    .dataframe tbody tr th:only-of-type {\n",
       "        vertical-align: middle;\n",
       "    }\n",
       "\n",
       "    .dataframe tbody tr th {\n",
       "        vertical-align: top;\n",
       "    }\n",
       "\n",
       "    .dataframe thead th {\n",
       "        text-align: right;\n",
       "    }\n",
       "</style>\n",
       "<table border=\"1\" class=\"dataframe\">\n",
       "  <thead>\n",
       "    <tr style=\"text-align: right;\">\n",
       "      <th></th>\n",
       "      <th>gdp_per_capita</th>\n",
       "    </tr>\n",
       "    <tr>\n",
       "      <th>Date</th>\n",
       "      <th></th>\n",
       "    </tr>\n",
       "  </thead>\n",
       "  <tbody>\n",
       "    <tr>\n",
       "      <th>2006-03</th>\n",
       "      <td>12353</td>\n",
       "    </tr>\n",
       "    <tr>\n",
       "      <th>2006-06</th>\n",
       "      <td>12520</td>\n",
       "    </tr>\n",
       "    <tr>\n",
       "      <th>2006-09</th>\n",
       "      <td>12764</td>\n",
       "    </tr>\n",
       "    <tr>\n",
       "      <th>2006-12</th>\n",
       "      <td>13050</td>\n",
       "    </tr>\n",
       "    <tr>\n",
       "      <th>2007-03</th>\n",
       "      <td>13293</td>\n",
       "    </tr>\n",
       "  </tbody>\n",
       "</table>\n",
       "</div>"
      ],
      "text/plain": [
       "         gdp_per_capita\n",
       "Date                   \n",
       "2006-03           12353\n",
       "2006-06           12520\n",
       "2006-09           12764\n",
       "2006-12           13050\n",
       "2007-03           13293"
      ]
     },
     "execution_count": 14,
     "metadata": {},
     "output_type": "execute_result"
    }
   ],
   "source": [
    "# using loc function to isolate get data from 2006-01 : 2022-05\n",
    "gdp_sorted_clean = gdp_per_capita.loc['2006-01':'2022-05']\n",
    "#print gdp data frame to check data output\n",
    "gdp_sorted_clean.head()"
   ]
  },
  {
   "cell_type": "code",
   "execution_count": 15,
   "id": "f9cead1e-33b0-40c8-995e-d44f2b6fb1ce",
   "metadata": {},
   "outputs": [],
   "source": [
    "# Export cleaned data frame to new CSV 'gdp_sorted_clean.csv'\n",
    "gdp_sorted_clean.to_csv('gdp_sorted_clean.csv')\n"
   ]
  },
  {
   "cell_type": "code",
   "execution_count": 30,
   "id": "b71869ca-cad0-440e-af45-e7332c0c7b41",
   "metadata": {},
   "outputs": [
    {
     "data": {
      "text/html": [
       "<div>\n",
       "<style scoped>\n",
       "    .dataframe tbody tr th:only-of-type {\n",
       "        vertical-align: middle;\n",
       "    }\n",
       "\n",
       "    .dataframe tbody tr th {\n",
       "        vertical-align: top;\n",
       "    }\n",
       "\n",
       "    .dataframe thead th {\n",
       "        text-align: right;\n",
       "    }\n",
       "</style>\n",
       "<table border=\"1\" class=\"dataframe\">\n",
       "  <thead>\n",
       "    <tr style=\"text-align: right;\">\n",
       "      <th></th>\n",
       "      <th>unemployment_rate</th>\n",
       "    </tr>\n",
       "    <tr>\n",
       "      <th>Date</th>\n",
       "      <th></th>\n",
       "    </tr>\n",
       "  </thead>\n",
       "  <tbody>\n",
       "    <tr>\n",
       "      <th>2001-03</th>\n",
       "      <td>6.5%</td>\n",
       "    </tr>\n",
       "    <tr>\n",
       "      <th>2001-06</th>\n",
       "      <td>6.9%</td>\n",
       "    </tr>\n",
       "    <tr>\n",
       "      <th>2001-09</th>\n",
       "      <td>6.8%</td>\n",
       "    </tr>\n",
       "    <tr>\n",
       "      <th>2001-12</th>\n",
       "      <td>6.9%</td>\n",
       "    </tr>\n",
       "    <tr>\n",
       "      <th>2002-03</th>\n",
       "      <td>6.4%</td>\n",
       "    </tr>\n",
       "  </tbody>\n",
       "</table>\n",
       "</div>"
      ],
      "text/plain": [
       "        unemployment_rate\n",
       "Date                     \n",
       "2001-03              6.5%\n",
       "2001-06              6.9%\n",
       "2001-09              6.8%\n",
       "2001-12              6.9%\n",
       "2002-03              6.4%"
      ]
     },
     "execution_count": 30,
     "metadata": {},
     "output_type": "execute_result"
    }
   ],
   "source": [
    "# Defining Path for unemployment_rate_csv and importing CSV, reading data frame using pandas library\n",
    "unemployment_rate_csv = Path(\"Unemployment rate.csv\")\n",
    "unemployment_rate = pd.read_csv(unemployment_rate_csv, index_col=\"Date\")\n",
    "\n",
    "# unemplyoment_rate.sort_index()in ascending form\n",
    "unemployment_rate.sort_index(ascending = True, inplace = True)\n",
    "# Renaming colums from 'unemployment rate':'unemployment_rate'\n",
    "unemployment_rate.rename(columns = {'unemployment rate':'unemployment_rate'}, inplace = True)\n",
    "unemployment_rate.head()"
   ]
  },
  {
   "cell_type": "code",
   "execution_count": 17,
   "id": "5ae7426b-1f09-404e-a45f-dfa069de30d9",
   "metadata": {},
   "outputs": [
    {
     "data": {
      "text/plain": [
       "unemployment_rate    0\n",
       "dtype: int64"
      ]
     },
     "execution_count": 17,
     "metadata": {},
     "output_type": "execute_result"
    }
   ],
   "source": [
    "# Check for all nulls from unemployment_rate data frame\n",
    "unemployment_rate.isnull().sum()"
   ]
  },
  {
   "cell_type": "code",
   "execution_count": 18,
   "id": "ab54f357-793c-4a07-90ab-1753d4fb7291",
   "metadata": {},
   "outputs": [
    {
     "data": {
      "text/plain": [
       "unemployment_rate    0\n",
       "dtype: int64"
      ]
     },
     "execution_count": 18,
     "metadata": {},
     "output_type": "execute_result"
    }
   ],
   "source": [
    "# removed all nulls from unemployment_rate data frame\n",
    "unemployment_rate.dropna(inplace=True)\n",
    "unemployment_rate.isnull().sum()"
   ]
  },
  {
   "cell_type": "code",
   "execution_count": 19,
   "id": "2339d852-d1ce-4bde-b578-8ca332b15ba2",
   "metadata": {},
   "outputs": [
    {
     "data": {
      "text/html": [
       "<div>\n",
       "<style scoped>\n",
       "    .dataframe tbody tr th:only-of-type {\n",
       "        vertical-align: middle;\n",
       "    }\n",
       "\n",
       "    .dataframe tbody tr th {\n",
       "        vertical-align: top;\n",
       "    }\n",
       "\n",
       "    .dataframe thead th {\n",
       "        text-align: right;\n",
       "    }\n",
       "</style>\n",
       "<table border=\"1\" class=\"dataframe\">\n",
       "  <thead>\n",
       "    <tr style=\"text-align: right;\">\n",
       "      <th></th>\n",
       "      <th>unemployment_rate</th>\n",
       "    </tr>\n",
       "    <tr>\n",
       "      <th>Date</th>\n",
       "      <th></th>\n",
       "    </tr>\n",
       "  </thead>\n",
       "  <tbody>\n",
       "    <tr>\n",
       "      <th>2006-03</th>\n",
       "      <td>4.9%</td>\n",
       "    </tr>\n",
       "    <tr>\n",
       "      <th>2006-06</th>\n",
       "      <td>4.8%</td>\n",
       "    </tr>\n",
       "    <tr>\n",
       "      <th>2006-09</th>\n",
       "      <td>4.7%</td>\n",
       "    </tr>\n",
       "    <tr>\n",
       "      <th>2006-12</th>\n",
       "      <td>4.6%</td>\n",
       "    </tr>\n",
       "    <tr>\n",
       "      <th>2007-03</th>\n",
       "      <td>4.5%</td>\n",
       "    </tr>\n",
       "  </tbody>\n",
       "</table>\n",
       "</div>"
      ],
      "text/plain": [
       "        unemployment_rate\n",
       "Date                     \n",
       "2006-03              4.9%\n",
       "2006-06              4.8%\n",
       "2006-09              4.7%\n",
       "2006-12              4.6%\n",
       "2007-03              4.5%"
      ]
     },
     "execution_count": 19,
     "metadata": {},
     "output_type": "execute_result"
    }
   ],
   "source": [
    "# using loc function to isolate data from 2006-01 : 2022-05\n",
    "unemployment_rate_sorted_clean = unemployment_rate.loc['2006-01':'2022-05']\n",
    "unemployment_rate_sorted_clean.head()"
   ]
  },
  {
   "cell_type": "code",
   "execution_count": 20,
   "id": "14b5f187-2c72-4ba8-9b0f-a7c934e6bea9",
   "metadata": {},
   "outputs": [],
   "source": [
    "# Export cleaned data frame to new CSV 'unemployment_rate_sorted_clean.csv'\n",
    "unemployment_rate_sorted_clean.to_csv('unemployment_rate_sorted_clean.csv')"
   ]
  },
  {
   "cell_type": "code",
   "execution_count": 21,
   "id": "dd85eba2-eea3-4288-80e0-1d6c9777b889",
   "metadata": {},
   "outputs": [
    {
     "data": {
      "text/html": [
       "<div>\n",
       "<style scoped>\n",
       "    .dataframe tbody tr th:only-of-type {\n",
       "        vertical-align: middle;\n",
       "    }\n",
       "\n",
       "    .dataframe tbody tr th {\n",
       "        vertical-align: top;\n",
       "    }\n",
       "\n",
       "    .dataframe thead th {\n",
       "        text-align: right;\n",
       "    }\n",
       "</style>\n",
       "<table border=\"1\" class=\"dataframe\">\n",
       "  <thead>\n",
       "    <tr style=\"text-align: right;\">\n",
       "      <th></th>\n",
       "      <th>unemployment_rate</th>\n",
       "    </tr>\n",
       "    <tr>\n",
       "      <th>Date</th>\n",
       "      <th></th>\n",
       "    </tr>\n",
       "  </thead>\n",
       "  <tbody>\n",
       "    <tr>\n",
       "      <th>2006-03</th>\n",
       "      <td>4.9%</td>\n",
       "    </tr>\n",
       "    <tr>\n",
       "      <th>2006-06</th>\n",
       "      <td>4.8%</td>\n",
       "    </tr>\n",
       "    <tr>\n",
       "      <th>2006-09</th>\n",
       "      <td>4.7%</td>\n",
       "    </tr>\n",
       "    <tr>\n",
       "      <th>2006-12</th>\n",
       "      <td>4.6%</td>\n",
       "    </tr>\n",
       "    <tr>\n",
       "      <th>2007-03</th>\n",
       "      <td>4.5%</td>\n",
       "    </tr>\n",
       "  </tbody>\n",
       "</table>\n",
       "</div>"
      ],
      "text/plain": [
       "        unemployment_rate\n",
       "Date                     \n",
       "2006-03              4.9%\n",
       "2006-06              4.8%\n",
       "2006-09              4.7%\n",
       "2006-12              4.6%\n",
       "2007-03              4.5%"
      ]
     },
     "execution_count": 21,
     "metadata": {},
     "output_type": "execute_result"
    }
   ],
   "source": [
    "# Print unemployment_rate_sorted_clean\n",
    "unemployment_rate_sorted_clean.head()"
   ]
  },
  {
   "cell_type": "code",
   "execution_count": 22,
   "id": "39a3edde-f131-4cf1-8c57-cdbbb0422e98",
   "metadata": {},
   "outputs": [
    {
     "data": {
      "text/html": [
       "<div>\n",
       "<style scoped>\n",
       "    .dataframe tbody tr th:only-of-type {\n",
       "        vertical-align: middle;\n",
       "    }\n",
       "\n",
       "    .dataframe tbody tr th {\n",
       "        vertical-align: top;\n",
       "    }\n",
       "\n",
       "    .dataframe thead th {\n",
       "        text-align: right;\n",
       "    }\n",
       "</style>\n",
       "<table border=\"1\" class=\"dataframe\">\n",
       "  <thead>\n",
       "    <tr style=\"text-align: right;\">\n",
       "      <th></th>\n",
       "      <th>inflation_rate</th>\n",
       "    </tr>\n",
       "    <tr>\n",
       "      <th>Date</th>\n",
       "      <th></th>\n",
       "    </tr>\n",
       "  </thead>\n",
       "  <tbody>\n",
       "    <tr>\n",
       "      <th>1922-06</th>\n",
       "      <td>2.8</td>\n",
       "    </tr>\n",
       "    <tr>\n",
       "      <th>1922-09</th>\n",
       "      <td>2.8</td>\n",
       "    </tr>\n",
       "    <tr>\n",
       "      <th>1922-12</th>\n",
       "      <td>2.7</td>\n",
       "    </tr>\n",
       "    <tr>\n",
       "      <th>1923-03</th>\n",
       "      <td>2.7</td>\n",
       "    </tr>\n",
       "    <tr>\n",
       "      <th>1923-06</th>\n",
       "      <td>2.8</td>\n",
       "    </tr>\n",
       "  </tbody>\n",
       "</table>\n",
       "</div>"
      ],
      "text/plain": [
       "         inflation_rate\n",
       "Date                   \n",
       "1922-06             2.8\n",
       "1922-09             2.8\n",
       "1922-12             2.7\n",
       "1923-03             2.7\n",
       "1923-06             2.8"
      ]
     },
     "execution_count": 22,
     "metadata": {},
     "output_type": "execute_result"
    }
   ],
   "source": [
    "# Defining Path for cpi_rate_csv and importing CSV, reading data frame using pandas library\n",
    "cpi_rate_csv = Path(\"CPI.csv\")\n",
    "cpi_rate = pd.read_csv(cpi_rate_csv, index_col=\"Date\")\n",
    "# cpi_rate.sort_index()in ascending form\n",
    "cpi_rate.sort_index(ascending = True, inplace = True)\n",
    "cpi_rate.head()"
   ]
  },
  {
   "cell_type": "code",
   "execution_count": 23,
   "id": "916d845e-bd38-4ed7-8847-6ac327d8ac54",
   "metadata": {},
   "outputs": [
    {
     "data": {
      "text/plain": [
       "inflation_rate    0\n",
       "dtype: int64"
      ]
     },
     "execution_count": 23,
     "metadata": {},
     "output_type": "execute_result"
    }
   ],
   "source": [
    "# Check for all nulls from cpi_rate data frame\n",
    "cpi_rate.isnull().sum()"
   ]
  },
  {
   "cell_type": "code",
   "execution_count": 24,
   "id": "38149d6e-84b6-44d4-9ffc-be66fa574cb0",
   "metadata": {},
   "outputs": [
    {
     "data": {
      "text/plain": [
       "inflation_rate    0\n",
       "dtype: int64"
      ]
     },
     "execution_count": 24,
     "metadata": {},
     "output_type": "execute_result"
    }
   ],
   "source": [
    "# removed all nulls cpi_rate data frame\n",
    "cpi_rate.dropna(inplace=True)\n",
    "cpi_rate.isnull().sum()"
   ]
  },
  {
   "cell_type": "code",
   "execution_count": 25,
   "id": "85c84614-746d-43ff-b744-43af8ae1772c",
   "metadata": {},
   "outputs": [
    {
     "data": {
      "text/html": [
       "<div>\n",
       "<style scoped>\n",
       "    .dataframe tbody tr th:only-of-type {\n",
       "        vertical-align: middle;\n",
       "    }\n",
       "\n",
       "    .dataframe tbody tr th {\n",
       "        vertical-align: top;\n",
       "    }\n",
       "\n",
       "    .dataframe thead th {\n",
       "        text-align: right;\n",
       "    }\n",
       "</style>\n",
       "<table border=\"1\" class=\"dataframe\">\n",
       "  <thead>\n",
       "    <tr style=\"text-align: right;\">\n",
       "      <th></th>\n",
       "      <th>inflation_rate</th>\n",
       "    </tr>\n",
       "    <tr>\n",
       "      <th>Date</th>\n",
       "      <th></th>\n",
       "    </tr>\n",
       "  </thead>\n",
       "  <tbody>\n",
       "    <tr>\n",
       "      <th>2006-03</th>\n",
       "      <td>84.5</td>\n",
       "    </tr>\n",
       "    <tr>\n",
       "      <th>2006-06</th>\n",
       "      <td>85.9</td>\n",
       "    </tr>\n",
       "    <tr>\n",
       "      <th>2006-09</th>\n",
       "      <td>86.7</td>\n",
       "    </tr>\n",
       "    <tr>\n",
       "      <th>2006-12</th>\n",
       "      <td>86.6</td>\n",
       "    </tr>\n",
       "    <tr>\n",
       "      <th>2007-03</th>\n",
       "      <td>86.6</td>\n",
       "    </tr>\n",
       "  </tbody>\n",
       "</table>\n",
       "</div>"
      ],
      "text/plain": [
       "         inflation_rate\n",
       "Date                   \n",
       "2006-03            84.5\n",
       "2006-06            85.9\n",
       "2006-09            86.7\n",
       "2006-12            86.6\n",
       "2007-03            86.6"
      ]
     },
     "execution_count": 25,
     "metadata": {},
     "output_type": "execute_result"
    }
   ],
   "source": [
    "# using loc function to isolate get data from 2006-01 : 2022-05\n",
    "cpi_rate_sorted_clean = cpi_rate.loc['2006-01':'2022-05']\n",
    "cpi_rate_sorted_clean.head()\n",
    "\n"
   ]
  },
  {
   "cell_type": "code",
   "execution_count": 26,
   "id": "5dfa8e82-c97b-416d-84fa-3b43a64e570a",
   "metadata": {},
   "outputs": [],
   "source": [
    "# Export cleaned data frame to new CSV 'cpi_rate_sorted_clean.csv'\n",
    "cpi_rate_sorted_clean.to_csv('cpi_rate_sorted_clean.csv')"
   ]
  }
 ],
 "metadata": {
  "kernelspec": {
   "display_name": "Python [conda env:pyvizenv]",
   "language": "python",
   "name": "conda-env-pyvizenv-py"
  },
  "language_info": {
   "codemirror_mode": {
    "name": "ipython",
    "version": 3
   },
   "file_extension": ".py",
   "mimetype": "text/x-python",
   "name": "python",
   "nbconvert_exporter": "python",
   "pygments_lexer": "ipython3",
   "version": "3.7.11"
  }
 },
 "nbformat": 4,
 "nbformat_minor": 5
}
